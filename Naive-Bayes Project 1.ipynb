{
 "cells": [
  {
   "cell_type": "markdown",
   "id": "8513fd0f",
   "metadata": {},
   "source": [
    "# Text Classification Assessment\n",
    "## Goal: Given a set of text movie reviews that have been labeled negative or positive"
   ]
  },
  {
   "cell_type": "code",
   "execution_count": 1,
   "id": "ec576b55",
   "metadata": {},
   "outputs": [],
   "source": [
    "import numpy as np\n",
    "import pandas as pd\n",
    "import matplotlib.pyplot as plt\n",
    "import seaborn as sns\n",
    "from plotly.offline import download_plotlyjs, init_notebook_mode, plot, iplot\n",
    "import cufflinks as cf\n",
    "import plotly.express as px"
   ]
  },
  {
   "cell_type": "code",
   "execution_count": 2,
   "id": "861bd729-5890-413c-90bd-0a236891f3d2",
   "metadata": {},
   "outputs": [
    {
     "data": {
      "text/html": [
       "        <script type=\"text/javascript\">\n",
       "        window.PlotlyConfig = {MathJaxConfig: 'local'};\n",
       "        if (window.MathJax) {MathJax.Hub.Config({SVG: {font: \"STIX-Web\"}});}\n",
       "        if (typeof require !== 'undefined') {\n",
       "        require.undef(\"plotly\");\n",
       "        requirejs.config({\n",
       "            paths: {\n",
       "                'plotly': ['https://cdn.plot.ly/plotly-2.9.0.min']\n",
       "            }\n",
       "        });\n",
       "        require(['plotly'], function(Plotly) {\n",
       "            window._Plotly = Plotly;\n",
       "        });\n",
       "        }\n",
       "        </script>\n",
       "        "
      ]
     },
     "metadata": {},
     "output_type": "display_data"
    },
    {
     "data": {
      "text/html": [
       "        <script type=\"text/javascript\">\n",
       "        window.PlotlyConfig = {MathJaxConfig: 'local'};\n",
       "        if (window.MathJax) {MathJax.Hub.Config({SVG: {font: \"STIX-Web\"}});}\n",
       "        if (typeof require !== 'undefined') {\n",
       "        require.undef(\"plotly\");\n",
       "        requirejs.config({\n",
       "            paths: {\n",
       "                'plotly': ['https://cdn.plot.ly/plotly-2.9.0.min']\n",
       "            }\n",
       "        });\n",
       "        require(['plotly'], function(Plotly) {\n",
       "            window._Plotly = Plotly;\n",
       "        });\n",
       "        }\n",
       "        </script>\n",
       "        "
      ]
     },
     "metadata": {},
     "output_type": "display_data"
    }
   ],
   "source": [
    "sns.set_theme(color_codes=True)\n",
    "sns.set_style('whitegrid')\n",
    "%matplotlib inline\n",
    "init_notebook_mode(connected=True)\n",
    "cf.go_offline()"
   ]
  },
  {
   "cell_type": "code",
   "execution_count": 3,
   "id": "7e686aa9-cafe-4f09-a2f2-97f4dc5d69b0",
   "metadata": {},
   "outputs": [],
   "source": [
    "df = pd.read_csv('moviereviews.csv')"
   ]
  },
  {
   "cell_type": "code",
   "execution_count": 4,
   "id": "cee12601-ff00-4c0d-81d9-6f4b07b4db13",
   "metadata": {},
   "outputs": [
    {
     "data": {
      "text/html": [
       "<div>\n",
       "<style scoped>\n",
       "    .dataframe tbody tr th:only-of-type {\n",
       "        vertical-align: middle;\n",
       "    }\n",
       "\n",
       "    .dataframe tbody tr th {\n",
       "        vertical-align: top;\n",
       "    }\n",
       "\n",
       "    .dataframe thead th {\n",
       "        text-align: right;\n",
       "    }\n",
       "</style>\n",
       "<table border=\"1\" class=\"dataframe\">\n",
       "  <thead>\n",
       "    <tr style=\"text-align: right;\">\n",
       "      <th></th>\n",
       "      <th>label</th>\n",
       "      <th>review</th>\n",
       "    </tr>\n",
       "  </thead>\n",
       "  <tbody>\n",
       "    <tr>\n",
       "      <th>0</th>\n",
       "      <td>neg</td>\n",
       "      <td>how do films like mouse hunt get into theatres...</td>\n",
       "    </tr>\n",
       "    <tr>\n",
       "      <th>1</th>\n",
       "      <td>neg</td>\n",
       "      <td>some talented actresses are blessed with a dem...</td>\n",
       "    </tr>\n",
       "    <tr>\n",
       "      <th>2</th>\n",
       "      <td>pos</td>\n",
       "      <td>this has been an extraordinary year for austra...</td>\n",
       "    </tr>\n",
       "    <tr>\n",
       "      <th>3</th>\n",
       "      <td>pos</td>\n",
       "      <td>according to hollywood movies made in last few...</td>\n",
       "    </tr>\n",
       "    <tr>\n",
       "      <th>4</th>\n",
       "      <td>neg</td>\n",
       "      <td>my first press screening of 1998 and already i...</td>\n",
       "    </tr>\n",
       "  </tbody>\n",
       "</table>\n",
       "</div>"
      ],
      "text/plain": [
       "  label                                             review\n",
       "0   neg  how do films like mouse hunt get into theatres...\n",
       "1   neg  some talented actresses are blessed with a dem...\n",
       "2   pos  this has been an extraordinary year for austra...\n",
       "3   pos  according to hollywood movies made in last few...\n",
       "4   neg  my first press screening of 1998 and already i..."
      ]
     },
     "execution_count": 4,
     "metadata": {},
     "output_type": "execute_result"
    }
   ],
   "source": [
    "df.head()"
   ]
  },
  {
   "cell_type": "code",
   "execution_count": 5,
   "id": "d442175d-811a-4c1e-8b69-b7d25c793d96",
   "metadata": {},
   "outputs": [
    {
     "data": {
      "text/plain": [
       "<AxesSubplot:>"
      ]
     },
     "execution_count": 5,
     "metadata": {},
     "output_type": "execute_result"
    },
    {
     "data": {
      "image/png": "[encoded data removed]",
      "text/plain": [
       "<Figure size 432x288 with 2 Axes>"
      ]
     },
     "metadata": {
      "needs_background": "light"
     },
     "output_type": "display_data"
    }
   ],
   "source": [
    "sns.heatmap(df.isnull())"
   ]
  },
  {
   "cell_type": "code",
   "execution_count": 6,
   "id": "daa81e4a-afc3-41cf-aada-6afecfa6fe48",
   "metadata": {},
   "outputs": [
    {
     "data": {
      "text/plain": [
       "label      0\n",
       "review    35\n",
       "dtype: int64"
      ]
     },
     "execution_count": 6,
     "metadata": {},
     "output_type": "execute_result"
    }
   ],
   "source": [
    "df.isnull().sum()"
   ]
  },
  {
   "cell_type": "code",
   "execution_count": 7,
   "id": "85dcb0d7-2eb0-48c5-b67f-5afdb0a28a2e",
   "metadata": {},
   "outputs": [],
   "source": [
    "df = df.dropna()"
   ]
  },
  {
   "cell_type": "code",
   "execution_count": 8,
   "id": "0ae5e76b-9611-4567-90f8-23bb218d77b4",
   "metadata": {},
   "outputs": [
    {
     "data": {
      "text/plain": [
       "label     0\n",
       "review    0\n",
       "dtype: int64"
      ]
     },
     "execution_count": 8,
     "metadata": {},
     "output_type": "execute_result"
    }
   ],
   "source": [
    "df.isnull().sum()"
   ]
  },
  {
   "cell_type": "code",
   "execution_count": 9,
   "id": "449c9a13-964b-4d88-a2f9-477f8e9760d9",
   "metadata": {},
   "outputs": [
    {
     "data": {
      "text/html": [
       "<div>\n",
       "<style scoped>\n",
       "    .dataframe tbody tr th:only-of-type {\n",
       "        vertical-align: middle;\n",
       "    }\n",
       "\n",
       "    .dataframe tbody tr th {\n",
       "        vertical-align: top;\n",
       "    }\n",
       "\n",
       "    .dataframe thead th {\n",
       "        text-align: right;\n",
       "    }\n",
       "</style>\n",
       "<table border=\"1\" class=\"dataframe\">\n",
       "  <thead>\n",
       "    <tr style=\"text-align: right;\">\n",
       "      <th></th>\n",
       "      <th>label</th>\n",
       "      <th>review</th>\n",
       "    </tr>\n",
       "  </thead>\n",
       "  <tbody>\n",
       "    <tr>\n",
       "      <th>57</th>\n",
       "      <td>neg</td>\n",
       "      <td></td>\n",
       "    </tr>\n",
       "    <tr>\n",
       "      <th>71</th>\n",
       "      <td>pos</td>\n",
       "      <td></td>\n",
       "    </tr>\n",
       "    <tr>\n",
       "      <th>147</th>\n",
       "      <td>pos</td>\n",
       "      <td></td>\n",
       "    </tr>\n",
       "    <tr>\n",
       "      <th>151</th>\n",
       "      <td>pos</td>\n",
       "      <td></td>\n",
       "    </tr>\n",
       "    <tr>\n",
       "      <th>283</th>\n",
       "      <td>pos</td>\n",
       "      <td></td>\n",
       "    </tr>\n",
       "    <tr>\n",
       "      <th>307</th>\n",
       "      <td>pos</td>\n",
       "      <td></td>\n",
       "    </tr>\n",
       "    <tr>\n",
       "      <th>313</th>\n",
       "      <td>neg</td>\n",
       "      <td></td>\n",
       "    </tr>\n",
       "    <tr>\n",
       "      <th>323</th>\n",
       "      <td>pos</td>\n",
       "      <td></td>\n",
       "    </tr>\n",
       "    <tr>\n",
       "      <th>343</th>\n",
       "      <td>pos</td>\n",
       "      <td></td>\n",
       "    </tr>\n",
       "    <tr>\n",
       "      <th>351</th>\n",
       "      <td>neg</td>\n",
       "      <td></td>\n",
       "    </tr>\n",
       "    <tr>\n",
       "      <th>427</th>\n",
       "      <td>pos</td>\n",
       "      <td></td>\n",
       "    </tr>\n",
       "    <tr>\n",
       "      <th>501</th>\n",
       "      <td>neg</td>\n",
       "      <td></td>\n",
       "    </tr>\n",
       "    <tr>\n",
       "      <th>633</th>\n",
       "      <td>pos</td>\n",
       "      <td></td>\n",
       "    </tr>\n",
       "    <tr>\n",
       "      <th>675</th>\n",
       "      <td>neg</td>\n",
       "      <td></td>\n",
       "    </tr>\n",
       "    <tr>\n",
       "      <th>815</th>\n",
       "      <td>neg</td>\n",
       "      <td></td>\n",
       "    </tr>\n",
       "    <tr>\n",
       "      <th>851</th>\n",
       "      <td>neg</td>\n",
       "      <td></td>\n",
       "    </tr>\n",
       "    <tr>\n",
       "      <th>977</th>\n",
       "      <td>neg</td>\n",
       "      <td></td>\n",
       "    </tr>\n",
       "    <tr>\n",
       "      <th>1079</th>\n",
       "      <td>neg</td>\n",
       "      <td></td>\n",
       "    </tr>\n",
       "    <tr>\n",
       "      <th>1299</th>\n",
       "      <td>pos</td>\n",
       "      <td></td>\n",
       "    </tr>\n",
       "    <tr>\n",
       "      <th>1455</th>\n",
       "      <td>neg</td>\n",
       "      <td></td>\n",
       "    </tr>\n",
       "    <tr>\n",
       "      <th>1493</th>\n",
       "      <td>pos</td>\n",
       "      <td></td>\n",
       "    </tr>\n",
       "    <tr>\n",
       "      <th>1525</th>\n",
       "      <td>neg</td>\n",
       "      <td></td>\n",
       "    </tr>\n",
       "    <tr>\n",
       "      <th>1531</th>\n",
       "      <td>neg</td>\n",
       "      <td></td>\n",
       "    </tr>\n",
       "    <tr>\n",
       "      <th>1763</th>\n",
       "      <td>neg</td>\n",
       "      <td></td>\n",
       "    </tr>\n",
       "    <tr>\n",
       "      <th>1851</th>\n",
       "      <td>neg</td>\n",
       "      <td></td>\n",
       "    </tr>\n",
       "    <tr>\n",
       "      <th>1905</th>\n",
       "      <td>pos</td>\n",
       "      <td></td>\n",
       "    </tr>\n",
       "    <tr>\n",
       "      <th>1993</th>\n",
       "      <td>pos</td>\n",
       "      <td></td>\n",
       "    </tr>\n",
       "  </tbody>\n",
       "</table>\n",
       "</div>"
      ],
      "text/plain": [
       "     label review\n",
       "57     neg       \n",
       "71     pos       \n",
       "147    pos       \n",
       "151    pos       \n",
       "283    pos       \n",
       "307    pos       \n",
       "313    neg       \n",
       "323    pos       \n",
       "343    pos       \n",
       "351    neg       \n",
       "427    pos       \n",
       "501    neg       \n",
       "633    pos       \n",
       "675    neg       \n",
       "815    neg       \n",
       "851    neg       \n",
       "977    neg       \n",
       "1079   neg       \n",
       "1299   pos       \n",
       "1455   neg       \n",
       "1493   pos       \n",
       "1525   neg       \n",
       "1531   neg       \n",
       "1763   neg       \n",
       "1851   neg       \n",
       "1905   pos       \n",
       "1993   pos       "
      ]
     },
     "execution_count": 9,
     "metadata": {},
     "output_type": "execute_result"
    }
   ],
   "source": [
    "df[df['review'].str.isspace()]"
   ]
  },
  {
   "cell_type": "code",
   "execution_count": 10,
   "id": "d955bf56-0e01-43c7-8f84-b326d0ba5efd",
   "metadata": {},
   "outputs": [],
   "source": [
    "df = df[~df['review'].str.isspace()]"
   ]
  },
  {
   "cell_type": "code",
   "execution_count": 11,
   "id": "fbc20a52-36e4-4b35-9ae9-004fc8ba5264",
   "metadata": {},
   "outputs": [
    {
     "data": {
      "text/html": [
       "<div>\n",
       "<style scoped>\n",
       "    .dataframe tbody tr th:only-of-type {\n",
       "        vertical-align: middle;\n",
       "    }\n",
       "\n",
       "    .dataframe tbody tr th {\n",
       "        vertical-align: top;\n",
       "    }\n",
       "\n",
       "    .dataframe thead th {\n",
       "        text-align: right;\n",
       "    }\n",
       "</style>\n",
       "<table border=\"1\" class=\"dataframe\">\n",
       "  <thead>\n",
       "    <tr style=\"text-align: right;\">\n",
       "      <th></th>\n",
       "      <th>label</th>\n",
       "      <th>review</th>\n",
       "    </tr>\n",
       "  </thead>\n",
       "  <tbody>\n",
       "  </tbody>\n",
       "</table>\n",
       "</div>"
      ],
      "text/plain": [
       "Empty DataFrame\n",
       "Columns: [label, review]\n",
       "Index: []"
      ]
     },
     "execution_count": 11,
     "metadata": {},
     "output_type": "execute_result"
    }
   ],
   "source": [
    "df[df['review'].apply(lambda review: review=='')]"
   ]
  },
  {
   "cell_type": "code",
   "execution_count": 12,
   "id": "cdc6bd9d-aa56-4d61-bebd-0b64c878dd7b",
   "metadata": {},
   "outputs": [
    {
     "name": "stdout",
     "output_type": "stream",
     "text": [
      "<class 'pandas.core.frame.DataFrame'>\n",
      "Int64Index: 1938 entries, 0 to 1999\n",
      "Data columns (total 2 columns):\n",
      " #   Column  Non-Null Count  Dtype \n",
      "---  ------  --------------  ----- \n",
      " 0   label   1938 non-null   object\n",
      " 1   review  1938 non-null   object\n",
      "dtypes: object(2)\n",
      "memory usage: 45.4+ KB\n"
     ]
    }
   ],
   "source": [
    "df.info()"
   ]
  },
  {
   "cell_type": "code",
   "execution_count": 13,
   "id": "cbb907f6-a13b-46cf-bf4a-602e0a9c54ea",
   "metadata": {},
   "outputs": [
    {
     "data": {
      "application/vnd.plotly.v1+json": {
       "config": {
        "linkText": "Export to plot.ly",
        "plotlyServerURL": "https://plot.ly",
        "showLink": true
       },
       "data": [
        {
         "histfunc": "count",
         "histnorm": "",
         "marker": {
          "color": "rgba(255, 153, 51, 1.0)",
          "line": {
           "color": "#4D5663",
           "width": 1.3
          }
         },
         "name": "label",
         "opacity": 0.8,
         "orientation": "v",
         "type": "histogram",
         "x": [
          "neg",
          "neg",
          "pos",
          "pos",
          "neg",
          "neg",
          "neg",
          "neg",
          "neg",
          "neg",
          "neg",
          "pos",
          "neg",
          "neg",
          "neg",
          "neg",
          "pos",
          "neg",
          "pos",
          "neg",
          "pos",
          "pos",
          "pos",
          "pos",
          "neg",
          "neg",
          "neg",
          "pos",
          "pos",
          "pos",
          "neg",
          "pos",
          "pos",
          "pos",
          "neg",
          "pos",
          "pos",
          "neg",
          "neg",
          "pos",
          "pos",
          "neg",
          "pos",
          "pos",
          "pos",
          "neg",
          "neg",
          "neg",
          "neg",
          "neg",
          "neg",
          "pos",
          "pos",
          "pos",
          "pos",
          "pos",
          "neg",
          "neg",
          "pos",
          "pos",
          "neg",
          "neg",
          "pos",
          "pos",
          "neg",
          "neg",
          "neg",
          "neg",
          "neg",
          "neg",
          "pos",
          "neg",
          "neg",
          "pos",
          "pos",
          "neg",
          "pos",
          "neg",
          "neg",
          "pos",
          "neg",
          "pos",
          "pos",
          "neg",
          "pos",
          "pos",
          "neg",
          "neg",
          "neg",
          "pos",
          "neg",
          "neg",
          "neg",
          "pos",
          "neg",
          "neg",
          "pos",
          "neg",
          "neg",
          "neg",
          "pos",
          "neg",
          "neg",
          "pos",
          "neg",
          "neg",
          "neg",
          "pos",
          "neg",
          "neg",
          "pos",
          "neg",
          "neg",
          "neg",
          "pos",
          "pos",
          "pos",
          "neg",
          "pos",
          "pos",
          "pos",
          "pos",
          "pos",
          "neg",
          "neg",
          "neg",
          "neg",
          "neg",
          "pos",
          "pos",
          "pos",
          "pos",
          "pos",
          "pos",
          "pos",
          "neg",
          "neg",
          "pos",
          "neg",
          "neg",
          "pos",
          "pos",
          "pos",
          "pos",
          "pos",
          "pos",
          "neg",
          "pos",
          "pos",
          "neg",
          "pos",
          "pos",
          "pos",
          "neg",
          "pos",
          "pos",
          "pos",
          "neg",
          "neg",
          "pos",
          "neg",
          "neg",
          "neg",
          "neg",
          "neg",
          "pos",
          "pos",
          "pos",
          "pos",
          "pos",
          "neg",
          "neg",
          "neg",
          "pos",
          "neg",
          "neg",
          "pos",
          "neg",
          "neg",
          "pos",
          "neg",
          "pos",
          "neg",
          "neg",
          "pos",
          "pos",
          "pos",
          "pos",
          "pos",
          "neg",
          "pos",
          "pos",
          "pos",
          "neg",
          "pos",
          "pos",
          "neg",
          "pos",
          "pos",
          "pos",
          "pos",
          "neg",
          "neg",
          "pos",
          "neg",
          "pos",
          "pos",
          "neg",
          "neg",
          "pos",
          "pos",
          "pos",
          "pos",
          "neg",
          "pos",
          "neg",
          "neg",
          "pos",
          "pos",
          "pos",
          "pos",
          "pos",
          "neg",
          "neg",
          "neg",
          "neg",
          "pos",
          "neg",
          "pos",
          "pos",
          "neg",
          "pos",
          "pos",
          "neg",
          "pos",
          "neg",
          "pos",
          "neg",
          "neg",
          "pos",
          "neg",
          "pos",
          "pos",
          "pos",
          "neg",
          "neg",
          "pos",
          "pos",
          "pos",
          "neg",
          "pos",
          "neg",
          "neg",
          "pos",
          "neg",
          "neg",
          "neg",
          "neg",
          "neg",
          "pos",
          "neg",
          "neg",
          "pos",
          "neg",
          "pos",
          "neg",
          "neg",
          "neg",
          "pos",
          "pos",
          "neg",
          "pos",
          "neg",
          "neg",
          "neg",
          "pos",
          "neg",
          "pos",
          "neg",
          "neg",
          "pos",
          "neg",
          "neg",
          "neg",
          "neg",
          "pos",
          "pos",
          "neg",
          "neg",
          "neg",
          "pos",
          "neg",
          "pos",
          "neg",
          "neg",
          "neg",
          "neg",
          "neg",
          "pos",
          "neg",
          "pos",
          "neg",
          "pos",
          "pos",
          "neg",
          "pos",
          "pos",
          "pos",
          "neg",
          "neg",
          "neg",
          "pos",
          "pos",
          "pos",
          "neg",
          "neg",
          "pos",
          "neg",
          "neg",
          "neg",
          "neg",
          "neg",
          "neg",
          "neg",
          "neg",
          "neg",
          "pos",
          "neg",
          "neg",
          "pos",
          "neg",
          "pos",
          "neg",
          "pos",
          "pos",
          "neg",
          "neg",
          "pos",
          "pos",
          "pos",
          "neg",
          "neg",
          "pos",
          "neg",
          "pos",
          "neg",
          "pos",
          "neg",
          "neg",
          "pos",
          "pos",
          "neg",
          "neg",
          "pos",
          "pos",
          "neg",
          "neg",
          "pos",
          "neg",
          "pos",
          "neg",
          "pos",
          "neg",
          "pos",
          "neg",
          "neg",
          "neg",
          "neg",
          "neg",
          "pos",
          "neg",
          "pos",
          "neg",
          "pos",
          "neg",
          "neg",
          "pos",
          "pos",
          "neg",
          "pos",
          "pos",
          "pos",
          "neg",
          "neg",
          "pos",
          "neg",
          "neg",
          "neg",
          "neg",
          "neg",
          "pos",
          "neg",
          "pos",
          "pos",
          "neg",
          "pos",
          "pos",
          "neg",
          "pos",
          "neg",
          "neg",
          "neg",
          "pos",
          "neg",
          "pos",
          "neg",
          "neg",
          "neg",
          "pos",
          "pos",
          "pos",
          "neg",
          "neg",
          "neg",
          "pos",
          "pos",
          "pos",
          "pos",
          "pos",
          "neg",
          "pos",
          "neg",
          "pos",
          "neg",
          "neg",
          "pos",
          "neg",
          "pos",
          "neg",
          "neg",
          "neg",
          "pos",
          "neg",
          "neg",
          "neg",
          "pos",
          "neg",
          "pos",
          "neg",
          "pos",
          "neg",
          "pos",
          "pos",
          "pos",
          "pos",
          "neg",
          "pos",
          "pos",
          "pos",
          "neg",
          "pos",
          "neg",
          "pos",
          "pos",
          "pos",
          "neg",
          "neg",
          "neg",
          "neg",
          "pos",
          "pos",
          "pos",
          "pos",
          "pos",
          "neg",
          "neg",
          "pos",
          "neg",
          "neg",
          "neg",
          "neg",
          "pos",
          "neg",
          "neg",
          "neg",
          "pos",
          "neg",
          "pos",
          "neg",
          "neg",
          "neg",
          "neg",
          "pos",
          "neg",
          "pos",
          "neg",
          "pos",
          "neg",
          "neg",
          "pos",
          "pos",
          "neg",
          "neg",
          "pos",
          "pos",
          "pos",
          "neg",
          "neg",
          "pos",
          "neg",
          "pos",
          "neg",
          "pos",
          "neg",
          "neg",
          "pos",
          "pos",
          "neg",
          "pos",
          "neg",
          "pos",
          "pos",
          "pos",
          "neg",
          "pos",
          "pos",
          "pos",
          "neg",
          "pos",
          "pos",
          "pos",
          "pos",
          "neg",
          "neg",
          "neg",
          "pos",
          "pos",
          "pos",
          "neg",
          "pos",
          "pos",
          "neg",
          "neg",
          "neg",
          "neg",
          "neg",
          "neg",
          "neg",
          "pos",
          "neg",
          "pos",
          "neg",
          "neg",
          "neg",
          "pos",
          "neg",
          "pos",
          "pos",
          "neg",
          "neg",
          "neg",
          "neg",
          "neg",
          "pos",
          "pos",
          "neg",
          "neg",
          "pos",
          "pos",
          "pos",
          "neg",
          "pos",
          "pos",
          "neg",
          "pos",
          "pos",
          "neg",
          "pos",
          "neg",
          "neg",
          "neg",
          "neg",
          "neg",
          "neg",
          "pos",
          "pos",
          "pos",
          "pos",
          "pos",
          "pos",
          "neg",
          "pos",
          "pos",
          "neg",
          "neg",
          "neg",
          "pos",
          "neg",
          "neg",
          "pos",
          "neg",
          "pos",
          "pos",
          "pos",
          "neg",
          "neg",
          "pos",
          "pos",
          "pos",
          "neg",
          "neg",
          "neg",
          "pos",
          "pos",
          "pos",
          "pos",
          "pos",
          "pos",
          "neg",
          "neg",
          "neg",
          "neg",
          "neg",
          "pos",
          "pos",
          "pos",
          "pos",
          "neg",
          "neg",
          "neg",
          "pos",
          "neg",
          "neg",
          "pos",
          "neg",
          "neg",
          "neg",
          "neg",
          "pos",
          "neg",
          "neg",
          "neg",
          "neg",
          "neg",
          "pos",
          "pos",
          "pos",
          "neg",
          "neg",
          "neg",
          "neg",
          "neg",
          "neg",
          "neg",
          "neg",
          "pos",
          "neg",
          "pos",
          "pos",
          "neg",
          "pos",
          "pos",
          "pos",
          "neg",
          "pos",
          "pos",
          "pos",
          "neg",
          "pos",
          "neg",
          "pos",
          "pos",
          "pos",
          "neg",
          "neg",
          "pos",
          "pos",
          "neg",
          "pos",
          "neg",
          "pos",
          "neg",
          "neg",
          "neg",
          "pos",
          "pos",
          "pos",
          "pos",
          "neg",
          "pos",
          "pos",
          "neg",
          "neg",
          "pos",
          "neg",
          "neg",
          "neg",
          "pos",
          "neg",
          "neg",
          "pos",
          "neg",
          "neg",
          "pos",
          "neg",
          "neg",
          "neg",
          "pos",
          "neg",
          "neg",
          "neg",
          "neg",
          "pos",
          "neg",
          "neg",
          "neg",
          "pos",
          "neg",
          "neg",
          "pos",
          "pos",
          "pos",
          "neg",
          "neg",
          "neg",
          "neg",
          "neg",
          "pos",
          "pos",
          "pos",
          "neg",
          "pos",
          "pos",
          "pos",
          "pos",
          "neg",
          "neg",
          "neg",
          "neg",
          "neg",
          "neg",
          "pos",
          "pos",
          "neg",
          "neg",
          "neg",
          "neg",
          "pos",
          "neg",
          "pos",
          "pos",
          "neg",
          "pos",
          "pos",
          "pos",
          "pos",
          "pos",
          "neg",
          "pos",
          "neg",
          "neg",
          "pos",
          "neg",
          "pos",
          "pos",
          "pos",
          "pos",
          "neg",
          "pos",
          "pos",
          "pos",
          "neg",
          "pos",
          "pos",
          "pos",
          "pos",
          "pos",
          "pos",
          "neg",
          "neg",
          "pos",
          "pos",
          "neg",
          "pos",
          "neg",
          "neg",
          "pos",
          "pos",
          "pos",
          "neg",
          "pos",
          "neg",
          "pos",
          "pos",
          "pos",
          "neg",
          "neg",
          "neg",
          "pos",
          "pos",
          "pos",
          "neg",
          "pos",
          "neg",
          "pos",
          "pos",
          "pos",
          "pos",
          "neg",
          "neg",
          "pos",
          "neg",
          "neg",
          "pos",
          "pos",
          "pos",
          "pos",
          "pos",
          "pos",
          "pos",
          "neg",
          "neg",
          "neg",
          "neg",
          "pos",
          "neg",
          "pos",
          "pos",
          "pos",
          "neg",
          "neg",
          "pos",
          "pos",
          "neg",
          "neg",
          "pos",
          "pos",
          "pos",
          "neg",
          "pos",
          "neg",
          "pos",
          "pos",
          "pos",
          "pos",
          "pos",
          "pos",
          "pos",
          "pos",
          "pos",
          "pos",
          "neg",
          "neg",
          "neg",
          "neg",
          "neg",
          "pos",
          "pos",
          "neg",
          "pos",
          "pos",
          "pos",
          "neg",
          "pos",
          "neg",
          "pos",
          "pos",
          "pos",
          "pos",
          "pos",
          "neg",
          "neg",
          "neg",
          "pos",
          "neg",
          "pos",
          "pos",
          "pos",
          "neg",
          "neg",
          "neg",
          "pos",
          "neg",
          "neg",
          "neg",
          "neg",
          "neg",
          "pos",
          "neg",
          "pos",
          "pos",
          "pos",
          "neg",
          "neg",
          "pos",
          "pos",
          "pos",
          "pos",
          "neg",
          "pos",
          "pos",
          "pos",
          "neg",
          "neg",
          "pos",
          "pos",
          "neg",
          "pos",
          "pos",
          "pos",
          "neg",
          "pos",
          "neg",
          "pos",
          "pos",
          "neg",
          "pos",
          "pos",
          "neg",
          "neg",
          "pos",
          "neg",
          "neg",
          "pos",
          "pos",
          "neg",
          "neg",
          "neg",
          "pos",
          "neg",
          "pos",
          "pos",
          "neg",
          "neg",
          "pos",
          "pos",
          "pos",
          "pos",
          "pos",
          "pos",
          "pos",
          "pos",
          "pos",
          "pos",
          "pos",
          "neg",
          "neg",
          "pos",
          "pos",
          "neg",
          "pos",
          "neg",
          "neg",
          "neg",
          "neg",
          "pos",
          "pos",
          "neg",
          "pos",
          "pos",
          "neg",
          "neg",
          "pos",
          "pos",
          "neg",
          "pos",
          "neg",
          "neg",
          "pos",
          "neg",
          "pos",
          "pos",
          "pos",
          "neg",
          "pos",
          "pos",
          "pos",
          "neg",
          "neg",
          "pos",
          "neg",
          "pos",
          "pos",
          "pos",
          "pos",
          "pos",
          "neg",
          "neg",
          "pos",
          "neg",
          "neg",
          "neg",
          "neg",
          "pos",
          "neg",
          "neg",
          "pos",
          "pos",
          "neg",
          "neg",
          "neg",
          "neg",
          "neg",
          "neg",
          "neg",
          "neg",
          "pos",
          "neg",
          "neg",
          "pos",
          "pos",
          "pos",
          "neg",
          "pos",
          "pos",
          "neg",
          "neg",
          "pos",
          "pos",
          "pos",
          "pos",
          "pos",
          "neg",
          "neg",
          "pos",
          "neg",
          "neg",
          "pos",
          "neg",
          "neg",
          "pos",
          "neg",
          "neg",
          "pos",
          "pos",
          "neg",
          "pos",
          "pos",
          "neg",
          "pos",
          "pos",
          "pos",
          "pos",
          "neg",
          "neg",
          "pos",
          "neg",
          "neg",
          "pos",
          "neg",
          "pos",
          "neg",
          "pos",
          "neg",
          "neg",
          "neg",
          "neg",
          "neg",
          "pos",
          "neg",
          "pos",
          "pos",
          "pos",
          "neg",
          "pos",
          "neg",
          "neg",
          "pos",
          "neg",
          "neg",
          "neg",
          "neg",
          "neg",
          "neg",
          "pos",
          "neg",
          "neg",
          "neg",
          "neg",
          "neg",
          "neg",
          "neg",
          "pos",
          "pos",
          "neg",
          "pos",
          "neg",
          "pos",
          "pos",
          "pos",
          "neg",
          "pos",
          "pos",
          "pos",
          "neg",
          "neg",
          "pos",
          "pos",
          "neg",
          "neg",
          "pos",
          "pos",
          "pos",
          "neg",
          "pos",
          "neg",
          "pos",
          "neg",
          "pos",
          "pos",
          "neg",
          "neg",
          "neg",
          "pos",
          "pos",
          "neg",
          "pos",
          "neg",
          "pos",
          "neg",
          "neg",
          "neg",
          "neg",
          "pos",
          "pos",
          "pos",
          "pos",
          "neg",
          "pos",
          "pos",
          "pos",
          "pos",
          "pos",
          "pos",
          "pos",
          "pos",
          "pos",
          "neg",
          "pos",
          "pos",
          "pos",
          "neg",
          "pos",
          "pos",
          "pos",
          "pos",
          "pos",
          "pos",
          "neg",
          "neg",
          "neg",
          "neg",
          "neg",
          "neg",
          "pos",
          "pos",
          "neg",
          "pos",
          "neg",
          "neg",
          "neg",
          "pos",
          "pos",
          "neg",
          "neg",
          "pos",
          "neg",
          "pos",
          "neg",
          "pos",
          "neg",
          "pos",
          "neg",
          "neg",
          "pos",
          "neg",
          "neg",
          "neg",
          "neg",
          "pos",
          "pos",
          "pos",
          "pos",
          "pos",
          "pos",
          "pos",
          "neg",
          "neg",
          "pos",
          "pos",
          "pos",
          "neg",
          "neg",
          "neg",
          "pos",
          "pos",
          "neg",
          "pos",
          "pos",
          "neg",
          "neg",
          "neg",
          "pos",
          "neg",
          "neg",
          "pos",
          "pos",
          "pos",
          "pos",
          "neg",
          "neg",
          "pos",
          "neg",
          "pos",
          "neg",
          "neg",
          "pos",
          "pos",
          "neg",
          "pos",
          "pos",
          "pos",
          "pos",
          "pos",
          "neg",
          "pos",
          "neg",
          "pos",
          "neg",
          "pos",
          "pos",
          "neg",
          "pos",
          "pos",
          "pos",
          "pos",
          "pos",
          "pos",
          "neg",
          "pos",
          "pos",
          "neg",
          "neg",
          "pos",
          "pos",
          "neg",
          "pos",
          "pos",
          "neg",
          "neg",
          "neg",
          "neg",
          "pos",
          "neg",
          "pos",
          "pos",
          "neg",
          "neg",
          "neg",
          "pos",
          "neg",
          "pos",
          "neg",
          "neg",
          "pos",
          "neg",
          "neg",
          "neg",
          "pos",
          "pos",
          "pos",
          "neg",
          "neg",
          "pos",
          "neg",
          "pos",
          "pos",
          "neg",
          "pos",
          "neg",
          "pos",
          "pos",
          "neg",
          "pos",
          "neg",
          "neg",
          "pos",
          "pos",
          "neg",
          "pos",
          "neg",
          "pos",
          "neg",
          "neg",
          "pos",
          "neg",
          "pos",
          "neg",
          "pos",
          "neg",
          "pos",
          "neg",
          "pos",
          "pos",
          "pos",
          "neg",
          "neg",
          "neg",
          "pos",
          "pos",
          "neg",
          "pos",
          "neg",
          "neg",
          "pos",
          "neg",
          "neg",
          "neg",
          "neg",
          "neg",
          "neg",
          "neg",
          "pos",
          "pos",
          "pos",
          "neg",
          "neg",
          "neg",
          "neg",
          "neg",
          "pos",
          "neg",
          "pos",
          "pos",
          "neg",
          "neg",
          "pos",
          "neg",
          "neg",
          "pos",
          "pos",
          "pos",
          "neg",
          "pos",
          "neg",
          "pos",
          "neg",
          "neg",
          "pos",
          "pos",
          "pos",
          "pos",
          "pos",
          "pos",
          "pos",
          "neg",
          "neg",
          "pos",
          "pos",
          "neg",
          "pos",
          "pos",
          "pos",
          "pos",
          "neg",
          "pos",
          "pos",
          "neg",
          "neg",
          "pos",
          "neg",
          "neg",
          "neg",
          "neg",
          "neg",
          "pos",
          "neg",
          "pos",
          "pos",
          "pos",
          "neg",
          "neg",
          "pos",
          "pos",
          "neg",
          "pos",
          "neg",
          "pos",
          "pos",
          "neg",
          "pos",
          "pos",
          "pos",
          "neg",
          "neg",
          "pos",
          "neg",
          "neg",
          "neg",
          "pos",
          "neg",
          "pos",
          "neg",
          "pos",
          "pos",
          "pos",
          "pos",
          "pos",
          "neg",
          "neg",
          "neg",
          "pos",
          "neg",
          "pos",
          "pos",
          "pos",
          "neg",
          "pos",
          "neg",
          "pos",
          "pos",
          "neg",
          "neg",
          "neg",
          "pos",
          "neg",
          "neg",
          "pos",
          "pos",
          "neg",
          "pos",
          "pos",
          "pos",
          "pos",
          "neg",
          "pos",
          "pos",
          "neg",
          "neg",
          "neg",
          "neg",
          "pos",
          "neg",
          "pos",
          "pos",
          "pos",
          "neg",
          "neg",
          "pos",
          "neg",
          "neg",
          "pos",
          "neg",
          "pos",
          "pos",
          "neg",
          "neg",
          "neg",
          "pos",
          "neg",
          "pos",
          "neg",
          "neg",
          "neg",
          "pos",
          "neg",
          "pos",
          "pos",
          "neg",
          "pos",
          "pos",
          "neg",
          "pos",
          "pos",
          "neg",
          "pos",
          "pos",
          "pos",
          "pos",
          "neg",
          "pos",
          "neg",
          "neg",
          "pos",
          "pos",
          "neg",
          "neg",
          "pos",
          "neg",
          "neg",
          "neg",
          "neg",
          "pos",
          "pos",
          "pos",
          "pos",
          "neg",
          "pos",
          "pos",
          "pos",
          "pos",
          "pos",
          "neg",
          "pos",
          "neg",
          "neg",
          "pos",
          "pos",
          "pos",
          "neg",
          "neg",
          "neg",
          "neg",
          "neg",
          "neg",
          "pos",
          "pos",
          "pos",
          "pos",
          "neg",
          "pos",
          "neg",
          "pos",
          "neg",
          "neg",
          "neg",
          "pos",
          "neg",
          "neg",
          "pos",
          "pos",
          "neg",
          "neg",
          "neg",
          "neg",
          "neg",
          "pos",
          "pos",
          "pos",
          "neg",
          "pos",
          "neg",
          "neg",
          "pos",
          "neg",
          "neg",
          "pos",
          "neg",
          "neg",
          "neg",
          "neg",
          "pos",
          "neg",
          "pos",
          "pos",
          "pos",
          "neg",
          "pos",
          "pos",
          "neg",
          "pos",
          "pos",
          "neg",
          "pos",
          "neg",
          "pos",
          "pos",
          "neg",
          "neg",
          "pos",
          "neg",
          "neg",
          "neg",
          "pos",
          "neg",
          "neg",
          "pos",
          "neg",
          "pos",
          "pos",
          "neg",
          "neg",
          "pos",
          "neg",
          "pos",
          "neg",
          "pos",
          "neg",
          "neg",
          "pos",
          "pos",
          "neg",
          "pos",
          "pos",
          "pos",
          "neg",
          "neg",
          "pos",
          "pos",
          "pos",
          "neg",
          "pos",
          "neg",
          "neg",
          "pos",
          "pos",
          "neg",
          "pos",
          "neg",
          "neg",
          "neg",
          "pos",
          "neg",
          "pos",
          "neg",
          "pos",
          "neg",
          "pos",
          "neg",
          "pos",
          "pos",
          "neg",
          "pos",
          "neg",
          "neg",
          "pos",
          "neg",
          "neg",
          "neg",
          "neg",
          "pos",
          "neg",
          "neg",
          "neg",
          "pos",
          "pos",
          "pos",
          "pos",
          "pos",
          "pos",
          "neg",
          "pos",
          "neg",
          "neg",
          "pos",
          "pos",
          "pos",
          "pos",
          "neg",
          "pos",
          "pos",
          "pos",
          "pos",
          "neg",
          "neg",
          "pos",
          "pos",
          "pos",
          "neg",
          "neg",
          "pos",
          "pos",
          "neg",
          "neg",
          "neg",
          "neg",
          "neg",
          "pos",
          "pos",
          "neg",
          "neg",
          "pos",
          "pos",
          "pos",
          "pos",
          "neg",
          "neg",
          "pos",
          "neg",
          "neg",
          "pos",
          "pos",
          "neg",
          "pos",
          "neg",
          "pos",
          "neg",
          "neg",
          "pos",
          "pos",
          "neg",
          "neg",
          "neg",
          "pos",
          "pos",
          "neg",
          "pos",
          "pos",
          "neg",
          "neg",
          "pos",
          "neg",
          "pos",
          "pos",
          "neg",
          "neg",
          "pos",
          "neg",
          "neg",
          "neg",
          "neg",
          "pos",
          "pos",
          "neg",
          "pos",
          "neg",
          "neg",
          "pos",
          "neg",
          "pos",
          "neg",
          "neg",
          "pos",
          "pos",
          "neg",
          "neg",
          "pos",
          "pos",
          "pos",
          "pos",
          "neg",
          "neg",
          "pos",
          "neg",
          "pos",
          "pos",
          "neg",
          "pos",
          "pos",
          "pos",
          "pos",
          "neg",
          "pos",
          "neg",
          "pos",
          "neg",
          "neg",
          "neg",
          "neg",
          "neg",
          "pos",
          "pos",
          "neg",
          "neg",
          "neg",
          "neg",
          "neg",
          "pos",
          "neg",
          "neg",
          "neg",
          "neg",
          "pos",
          "pos",
          "neg",
          "neg",
          "neg",
          "neg",
          "pos",
          "pos",
          "neg",
          "pos",
          "neg",
          "pos",
          "neg",
          "pos",
          "neg",
          "pos",
          "pos",
          "neg",
          "neg",
          "neg",
          "pos",
          "neg",
          "neg",
          "neg",
          "neg",
          "neg",
          "neg",
          "neg",
          "neg",
          "neg",
          "pos",
          "pos",
          "pos",
          "neg",
          "pos",
          "pos",
          "pos",
          "pos",
          "pos",
          "pos",
          "neg",
          "pos",
          "pos",
          "pos",
          "pos",
          "pos",
          "neg",
          "pos",
          "neg",
          "neg",
          "pos",
          "pos",
          "pos",
          "neg",
          "pos",
          "pos",
          "neg",
          "neg",
          "pos",
          "neg",
          "neg",
          "neg",
          "pos",
          "pos",
          "neg",
          "neg",
          "pos",
          "pos",
          "neg",
          "pos",
          "neg",
          "neg",
          "pos",
          "neg",
          "pos",
          "pos",
          "pos",
          "neg",
          "neg",
          "pos",
          "neg",
          "neg",
          "neg",
          "neg",
          "pos",
          "neg",
          "pos",
          "pos",
          "neg",
          "neg",
          "pos",
          "pos",
          "neg",
          "neg",
          "neg",
          "pos",
          "pos",
          "pos",
          "neg",
          "pos",
          "pos",
          "pos",
          "neg",
          "neg",
          "neg",
          "pos",
          "neg",
          "neg",
          "neg",
          "pos",
          "pos",
          "neg",
          "pos",
          "pos",
          "pos",
          "neg",
          "pos",
          "neg",
          "pos",
          "neg",
          "pos",
          "pos",
          "neg",
          "pos",
          "pos",
          "neg",
          "neg",
          "pos",
          "pos",
          "pos",
          "neg",
          "pos",
          "pos",
          "neg",
          "pos",
          "pos",
          "neg",
          "neg",
          "neg",
          "pos",
          "neg",
          "pos",
          "pos",
          "neg",
          "pos",
          "neg",
          "pos",
          "neg",
          "neg",
          "pos",
          "neg",
          "neg",
          "pos",
          "neg",
          "neg",
          "neg",
          "pos",
          "neg",
          "neg",
          "neg",
          "neg",
          "pos",
          "neg",
          "neg",
          "neg",
          "neg",
          "pos",
          "neg",
          "neg",
          "pos",
          "neg",
          "pos",
          "neg",
          "neg",
          "neg",
          "pos",
          "pos",
          "pos",
          "neg",
          "neg",
          "pos",
          "pos",
          "pos",
          "pos",
          "pos",
          "pos"
         ]
        }
       ],
       "layout": {
        "barmode": "overlay",
        "legend": {
         "bgcolor": "#F5F6F9",
         "font": {
          "color": "#4D5663"
         }
        },
        "paper_bgcolor": "#F5F6F9",
        "plot_bgcolor": "#F5F6F9",
        "template": {
         "data": {
          "bar": [
           {
            "error_x": {
             "color": "#2a3f5f"
            },
            "error_y": {
             "color": "#2a3f5f"
            },
            "marker": {
             "line": {
              "color": "#E5ECF6",
              "width": 0.5
             },
             "pattern": {
              "fillmode": "overlay",
              "size": 10,
              "solidity": 0.2
             }
            },
            "type": "bar"
           }
          ],
          "barpolar": [
           {
            "marker": {
             "line": {
              "color": "#E5ECF6",
              "width": 0.5
             },
             "pattern": {
              "fillmode": "overlay",
              "size": 10,
              "solidity": 0.2
             }
            },
            "type": "barpolar"
           }
          ],
          "carpet": [
           {
            "aaxis": {
             "endlinecolor": "#2a3f5f",
             "gridcolor": "white",
             "linecolor": "white",
             "minorgridcolor": "white",
             "startlinecolor": "#2a3f5f"
            },
            "baxis": {
             "endlinecolor": "#2a3f5f",
             "gridcolor": "white",
             "linecolor": "white",
             "minorgridcolor": "white",
             "startlinecolor": "#2a3f5f"
            },
            "type": "carpet"
           }
          ],
          "choropleth": [
           {
            "colorbar": {
             "outlinewidth": 0,
             "ticks": ""
            },
            "type": "choropleth"
           }
          ],
          "contour": [
           {
            "colorbar": {
             "outlinewidth": 0,
             "ticks": ""
            },
            "colorscale": [
             [
              0,
              "#0d0887"
             ],
             [
              0.1111111111111111,
              "#46039f"
             ],
             [
              0.2222222222222222,
              "#7201a8"
             ],
             [
              0.3333333333333333,
              "#9c179e"
             ],
             [
              0.4444444444444444,
              "#bd3786"
             ],
             [
              0.5555555555555556,
              "#d8576b"
             ],
             [
              0.6666666666666666,
              "#ed7953"
             ],
             [
              0.7777777777777778,
              "#fb9f3a"
             ],
             [
              0.8888888888888888,
              "#fdca26"
             ],
             [
              1,
              "#f0f921"
             ]
            ],
            "type": "contour"
           }
          ],
          "contourcarpet": [
           {
            "colorbar": {
             "outlinewidth": 0,
             "ticks": ""
            },
            "type": "contourcarpet"
           }
          ],
          "heatmap": [
           {
            "colorbar": {
             "outlinewidth": 0,
             "ticks": ""
            },
            "colorscale": [
             [
              0,
              "#0d0887"
             ],
             [
              0.1111111111111111,
              "#46039f"
             ],
             [
              0.2222222222222222,
              "#7201a8"
             ],
             [
              0.3333333333333333,
              "#9c179e"
             ],
             [
              0.4444444444444444,
              "#bd3786"
             ],
             [
              0.5555555555555556,
              "#d8576b"
             ],
             [
              0.6666666666666666,
              "#ed7953"
             ],
             [
              0.7777777777777778,
              "#fb9f3a"
             ],
             [
              0.8888888888888888,
              "#fdca26"
             ],
             [
              1,
              "#f0f921"
             ]
            ],
            "type": "heatmap"
           }
          ],
          "heatmapgl": [
           {
            "colorbar": {
             "outlinewidth": 0,
             "ticks": ""
            },
            "colorscale": [
             [
              0,
              "#0d0887"
             ],
             [
              0.1111111111111111,
              "#46039f"
             ],
             [
              0.2222222222222222,
              "#7201a8"
             ],
             [
              0.3333333333333333,
              "#9c179e"
             ],
             [
              0.4444444444444444,
              "#bd3786"
             ],
             [
              0.5555555555555556,
              "#d8576b"
             ],
             [
              0.6666666666666666,
              "#ed7953"
             ],
             [
              0.7777777777777778,
              "#fb9f3a"
             ],
             [
              0.8888888888888888,
              "#fdca26"
             ],
             [
              1,
              "#f0f921"
             ]
            ],
            "type": "heatmapgl"
           }
          ],
          "histogram": [
           {
            "marker": {
             "pattern": {
              "fillmode": "overlay",
              "size": 10,
              "solidity": 0.2
             }
            },
            "type": "histogram"
           }
          ],
          "histogram2d": [
           {
            "colorbar": {
             "outlinewidth": 0,
             "ticks": ""
            },
            "colorscale": [
             [
              0,
              "#0d0887"
             ],
             [
              0.1111111111111111,
              "#46039f"
             ],
             [
              0.2222222222222222,
              "#7201a8"
             ],
             [
              0.3333333333333333,
              "#9c179e"
             ],
             [
              0.4444444444444444,
              "#bd3786"
             ],
             [
              0.5555555555555556,
              "#d8576b"
             ],
             [
              0.6666666666666666,
              "#ed7953"
             ],
             [
              0.7777777777777778,
              "#fb9f3a"
             ],
             [
              0.8888888888888888,
              "#fdca26"
             ],
             [
              1,
              "#f0f921"
             ]
            ],
            "type": "histogram2d"
           }
          ],
          "histogram2dcontour": [
           {
            "colorbar": {
             "outlinewidth": 0,
             "ticks": ""
            },
            "colorscale": [
             [
              0,
              "#0d0887"
             ],
             [
              0.1111111111111111,
              "#46039f"
             ],
             [
              0.2222222222222222,
              "#7201a8"
             ],
             [
              0.3333333333333333,
              "#9c179e"
             ],
             [
              0.4444444444444444,
              "#bd3786"
             ],
             [
              0.5555555555555556,
              "#d8576b"
             ],
             [
              0.6666666666666666,
              "#ed7953"
             ],
             [
              0.7777777777777778,
              "#fb9f3a"
             ],
             [
              0.8888888888888888,
              "#fdca26"
             ],
             [
              1,
              "#f0f921"
             ]
            ],
            "type": "histogram2dcontour"
           }
          ],
          "mesh3d": [
           {
            "colorbar": {
             "outlinewidth": 0,
             "ticks": ""
            },
            "type": "mesh3d"
           }
          ],
          "parcoords": [
           {
            "line": {
             "colorbar": {
              "outlinewidth": 0,
              "ticks": ""
             }
            },
            "type": "parcoords"
           }
          ],
          "pie": [
           {
            "automargin": true,
            "type": "pie"
           }
          ],
          "scatter": [
           {
            "marker": {
             "colorbar": {
              "outlinewidth": 0,
              "ticks": ""
             }
            },
            "type": "scatter"
           }
          ],
          "scatter3d": [
           {
            "line": {
             "colorbar": {
              "outlinewidth": 0,
              "ticks": ""
             }
            },
            "marker": {
             "colorbar": {
              "outlinewidth": 0,
              "ticks": ""
             }
            },
            "type": "scatter3d"
           }
          ],
          "scattercarpet": [
           {
            "marker": {
             "colorbar": {
              "outlinewidth": 0,
              "ticks": ""
             }
            },
            "type": "scattercarpet"
           }
          ],
          "scattergeo": [
           {
            "marker": {
             "colorbar": {
              "outlinewidth": 0,
              "ticks": ""
             }
            },
            "type": "scattergeo"
           }
          ],
          "scattergl": [
           {
            "marker": {
             "colorbar": {
              "outlinewidth": 0,
              "ticks": ""
             }
            },
            "type": "scattergl"
           }
          ],
          "scattermapbox": [
           {
            "marker": {
             "colorbar": {
              "outlinewidth": 0,
              "ticks": ""
             }
            },
            "type": "scattermapbox"
           }
          ],
          "scatterpolar": [
           {
            "marker": {
             "colorbar": {
              "outlinewidth": 0,
              "ticks": ""
             }
            },
            "type": "scatterpolar"
           }
          ],
          "scatterpolargl": [
           {
            "marker": {
             "colorbar": {
              "outlinewidth": 0,
              "ticks": ""
             }
            },
            "type": "scatterpolargl"
           }
          ],
          "scatterternary": [
           {
            "marker": {
             "colorbar": {
              "outlinewidth": 0,
              "ticks": ""
             }
            },
            "type": "scatterternary"
           }
          ],
          "surface": [
           {
            "colorbar": {
             "outlinewidth": 0,
             "ticks": ""
            },
            "colorscale": [
             [
              0,
              "#0d0887"
             ],
             [
              0.1111111111111111,
              "#46039f"
             ],
             [
              0.2222222222222222,
              "#7201a8"
             ],
             [
              0.3333333333333333,
              "#9c179e"
             ],
             [
              0.4444444444444444,
              "#bd3786"
             ],
             [
              0.5555555555555556,
              "#d8576b"
             ],
             [
              0.6666666666666666,
              "#ed7953"
             ],
             [
              0.7777777777777778,
              "#fb9f3a"
             ],
             [
              0.8888888888888888,
              "#fdca26"
             ],
             [
              1,
              "#f0f921"
             ]
            ],
            "type": "surface"
           }
          ],
          "table": [
           {
            "cells": {
             "fill": {
              "color": "#EBF0F8"
             },
             "line": {
              "color": "white"
             }
            },
            "header": {
             "fill": {
              "color": "#C8D4E3"
             },
             "line": {
              "color": "white"
             }
            },
            "type": "table"
           }
          ]
         },
         "layout": {
          "annotationdefaults": {
           "arrowcolor": "#2a3f5f",
           "arrowhead": 0,
           "arrowwidth": 1
          },
          "autotypenumbers": "strict",
          "coloraxis": {
           "colorbar": {
            "outlinewidth": 0,
            "ticks": ""
           }
          },
          "colorscale": {
           "diverging": [
            [
             0,
             "#8e0152"
            ],
            [
             0.1,
             "#c51b7d"
            ],
            [
             0.2,
             "#de77ae"
            ],
            [
             0.3,
             "#f1b6da"
            ],
            [
             0.4,
             "#fde0ef"
            ],
            [
             0.5,
             "#f7f7f7"
            ],
            [
             0.6,
             "#e6f5d0"
            ],
            [
             0.7,
             "#b8e186"
            ],
            [
             0.8,
             "#7fbc41"
            ],
            [
             0.9,
             "#4d9221"
            ],
            [
             1,
             "#276419"
            ]
           ],
           "sequential": [
            [
             0,
             "#0d0887"
            ],
            [
             0.1111111111111111,
             "#46039f"
            ],
            [
             0.2222222222222222,
             "#7201a8"
            ],
            [
             0.3333333333333333,
             "#9c179e"
            ],
            [
             0.4444444444444444,
             "#bd3786"
            ],
            [
             0.5555555555555556,
             "#d8576b"
            ],
            [
             0.6666666666666666,
             "#ed7953"
            ],
            [
             0.7777777777777778,
             "#fb9f3a"
            ],
            [
             0.8888888888888888,
             "#fdca26"
            ],
            [
             1,
             "#f0f921"
            ]
           ],
           "sequentialminus": [
            [
             0,
             "#0d0887"
            ],
            [
             0.1111111111111111,
             "#46039f"
            ],
            [
             0.2222222222222222,
             "#7201a8"
            ],
            [
             0.3333333333333333,
             "#9c179e"
            ],
            [
             0.4444444444444444,
             "#bd3786"
            ],
            [
             0.5555555555555556,
             "#d8576b"
            ],
            [
             0.6666666666666666,
             "#ed7953"
            ],
            [
             0.7777777777777778,
             "#fb9f3a"
            ],
            [
             0.8888888888888888,
             "#fdca26"
            ],
            [
             1,
             "#f0f921"
            ]
           ]
          },
          "colorway": [
           "#636efa",
           "#EF553B",
           "#00cc96",
           "#ab63fa",
           "#FFA15A",
           "#19d3f3",
           "#FF6692",
           "#B6E880",
           "#FF97FF",
           "#FECB52"
          ],
          "font": {
           "color": "#2a3f5f"
          },
          "geo": {
           "bgcolor": "white",
           "lakecolor": "white",
           "landcolor": "#E5ECF6",
           "showlakes": true,
           "showland": true,
           "subunitcolor": "white"
          },
          "hoverlabel": {
           "align": "left"
          },
          "hovermode": "closest",
          "mapbox": {
           "style": "light"
          },
          "paper_bgcolor": "white",
          "plot_bgcolor": "#E5ECF6",
          "polar": {
           "angularaxis": {
            "gridcolor": "white",
            "linecolor": "white",
            "ticks": ""
           },
           "bgcolor": "#E5ECF6",
           "radialaxis": {
            "gridcolor": "white",
            "linecolor": "white",
            "ticks": ""
           }
          },
          "scene": {
           "xaxis": {
            "backgroundcolor": "#E5ECF6",
            "gridcolor": "white",
            "gridwidth": 2,
            "linecolor": "white",
            "showbackground": true,
            "ticks": "",
            "zerolinecolor": "white"
           },
           "yaxis": {
            "backgroundcolor": "#E5ECF6",
            "gridcolor": "white",
            "gridwidth": 2,
            "linecolor": "white",
            "showbackground": true,
            "ticks": "",
            "zerolinecolor": "white"
           },
           "zaxis": {
            "backgroundcolor": "#E5ECF6",
            "gridcolor": "white",
            "gridwidth": 2,
            "linecolor": "white",
            "showbackground": true,
            "ticks": "",
            "zerolinecolor": "white"
           }
          },
          "shapedefaults": {
           "line": {
            "color": "#2a3f5f"
           }
          },
          "ternary": {
           "aaxis": {
            "gridcolor": "white",
            "linecolor": "white",
            "ticks": ""
           },
           "baxis": {
            "gridcolor": "white",
            "linecolor": "white",
            "ticks": ""
           },
           "bgcolor": "#E5ECF6",
           "caxis": {
            "gridcolor": "white",
            "linecolor": "white",
            "ticks": ""
           }
          },
          "title": {
           "x": 0.05
          },
          "xaxis": {
           "automargin": true,
           "gridcolor": "white",
           "linecolor": "white",
           "ticks": "",
           "title": {
            "standoff": 15
           },
           "zerolinecolor": "white",
           "zerolinewidth": 2
          },
          "yaxis": {
           "automargin": true,
           "gridcolor": "white",
           "linecolor": "white",
           "ticks": "",
           "title": {
            "standoff": 15
           },
           "zerolinecolor": "white",
           "zerolinewidth": 2
          }
         }
        },
        "title": {
         "font": {
          "color": "#4D5663"
         }
        },
        "xaxis": {
         "gridcolor": "#E1E5ED",
         "showgrid": true,
         "tickfont": {
          "color": "#4D5663"
         },
         "title": {
          "font": {
           "color": "#4D5663"
          },
          "text": ""
         },
         "zerolinecolor": "#E1E5ED"
        },
        "yaxis": {
         "gridcolor": "#E1E5ED",
         "showgrid": true,
         "tickfont": {
          "color": "#4D5663"
         },
         "title": {
          "font": {
           "color": "#4D5663"
          },
          "text": ""
         },
         "zerolinecolor": "#E1E5ED"
        }
       }
      },
      "text/html": [
       "<div>                            <div id=\"89da305a-5397-4269-b04d-b47ed2b4827e\" class=\"plotly-graph-div\" style=\"height:525px; width:100%;\"></div>            <script type=\"text/javascript\">                require([\"plotly\"], function(Plotly) {                    window.PLOTLYENV=window.PLOTLYENV || {};\n",
       "                    window.PLOTLYENV.BASE_URL='https://plot.ly';                                    if (document.getElementById(\"89da305a-5397-4269-b04d-b47ed2b4827e\")) {                    Plotly.newPlot(                        \"89da305a-5397-4269-b04d-b47ed2b4827e\",                        [{\"histfunc\":\"count\",\"histnorm\":\"\",\"marker\":{\"color\":\"rgba(255, 153, 51, 1.0)\",\"line\":{\"color\":\"#4D5663\",\"width\":1.3}},\"name\":\"label\",\"opacity\":0.8,\"orientation\":\"v\",\"x\":[\"neg\",\"neg\",\"pos\",\"pos\",\"neg\",\"neg\",\"neg\",\"neg\",\"neg\",\"neg\",\"neg\",\"pos\",\"neg\",\"neg\",\"neg\",\"neg\",\"pos\",\"neg\",\"pos\",\"neg\",\"pos\",\"pos\",\"pos\",\"pos\",\"neg\",\"neg\",\"neg\",\"pos\",\"pos\",\"pos\",\"neg\",\"pos\",\"pos\",\"pos\",\"neg\",\"pos\",\"pos\",\"neg\",\"neg\",\"pos\",\"pos\",\"neg\",\"pos\",\"pos\",\"pos\",\"neg\",\"neg\",\"neg\",\"neg\",\"neg\",\"neg\",\"pos\",\"pos\",\"pos\",\"pos\",\"pos\",\"neg\",\"neg\",\"pos\",\"pos\",\"neg\",\"neg\",\"pos\",\"pos\",\"neg\",\"neg\",\"neg\",\"neg\",\"neg\",\"neg\",\"pos\",\"neg\",\"neg\",\"pos\",\"pos\",\"neg\",\"pos\",\"neg\",\"neg\",\"pos\",\"neg\",\"pos\",\"pos\",\"neg\",\"pos\",\"pos\",\"neg\",\"neg\",\"neg\",\"pos\",\"neg\",\"neg\",\"neg\",\"pos\",\"neg\",\"neg\",\"pos\",\"neg\",\"neg\",\"neg\",\"pos\",\"neg\",\"neg\",\"pos\",\"neg\",\"neg\",\"neg\",\"pos\",\"neg\",\"neg\",\"pos\",\"neg\",\"neg\",\"neg\",\"pos\",\"pos\",\"pos\",\"neg\",\"pos\",\"pos\",\"pos\",\"pos\",\"pos\",\"neg\",\"neg\",\"neg\",\"neg\",\"neg\",\"pos\",\"pos\",\"pos\",\"pos\",\"pos\",\"pos\",\"pos\",\"neg\",\"neg\",\"pos\",\"neg\",\"neg\",\"pos\",\"pos\",\"pos\",\"pos\",\"pos\",\"pos\",\"neg\",\"pos\",\"pos\",\"neg\",\"pos\",\"pos\",\"pos\",\"neg\",\"pos\",\"pos\",\"pos\",\"neg\",\"neg\",\"pos\",\"neg\",\"neg\",\"neg\",\"neg\",\"neg\",\"pos\",\"pos\",\"pos\",\"pos\",\"pos\",\"neg\",\"neg\",\"neg\",\"pos\",\"neg\",\"neg\",\"pos\",\"neg\",\"neg\",\"pos\",\"neg\",\"pos\",\"neg\",\"neg\",\"pos\",\"pos\",\"pos\",\"pos\",\"pos\",\"neg\",\"pos\",\"pos\",\"pos\",\"neg\",\"pos\",\"pos\",\"neg\",\"pos\",\"pos\",\"pos\",\"pos\",\"neg\",\"neg\",\"pos\",\"neg\",\"pos\",\"pos\",\"neg\",\"neg\",\"pos\",\"pos\",\"pos\",\"pos\",\"neg\",\"pos\",\"neg\",\"neg\",\"pos\",\"pos\",\"pos\",\"pos\",\"pos\",\"neg\",\"neg\",\"neg\",\"neg\",\"pos\",\"neg\",\"pos\",\"pos\",\"neg\",\"pos\",\"pos\",\"neg\",\"pos\",\"neg\",\"pos\",\"neg\",\"neg\",\"pos\",\"neg\",\"pos\",\"pos\",\"pos\",\"neg\",\"neg\",\"pos\",\"pos\",\"pos\",\"neg\",\"pos\",\"neg\",\"neg\",\"pos\",\"neg\",\"neg\",\"neg\",\"neg\",\"neg\",\"pos\",\"neg\",\"neg\",\"pos\",\"neg\",\"pos\",\"neg\",\"neg\",\"neg\",\"pos\",\"pos\",\"neg\",\"pos\",\"neg\",\"neg\",\"neg\",\"pos\",\"neg\",\"pos\",\"neg\",\"neg\",\"pos\",\"neg\",\"neg\",\"neg\",\"neg\",\"pos\",\"pos\",\"neg\",\"neg\",\"neg\",\"pos\",\"neg\",\"pos\",\"neg\",\"neg\",\"neg\",\"neg\",\"neg\",\"pos\",\"neg\",\"pos\",\"neg\",\"pos\",\"pos\",\"neg\",\"pos\",\"pos\",\"pos\",\"neg\",\"neg\",\"neg\",\"pos\",\"pos\",\"pos\",\"neg\",\"neg\",\"pos\",\"neg\",\"neg\",\"neg\",\"neg\",\"neg\",\"neg\",\"neg\",\"neg\",\"neg\",\"pos\",\"neg\",\"neg\",\"pos\",\"neg\",\"pos\",\"neg\",\"pos\",\"pos\",\"neg\",\"neg\",\"pos\",\"pos\",\"pos\",\"neg\",\"neg\",\"pos\",\"neg\",\"pos\",\"neg\",\"pos\",\"neg\",\"neg\",\"pos\",\"pos\",\"neg\",\"neg\",\"pos\",\"pos\",\"neg\",\"neg\",\"pos\",\"neg\",\"pos\",\"neg\",\"pos\",\"neg\",\"pos\",\"neg\",\"neg\",\"neg\",\"neg\",\"neg\",\"pos\",\"neg\",\"pos\",\"neg\",\"pos\",\"neg\",\"neg\",\"pos\",\"pos\",\"neg\",\"pos\",\"pos\",\"pos\",\"neg\",\"neg\",\"pos\",\"neg\",\"neg\",\"neg\",\"neg\",\"neg\",\"pos\",\"neg\",\"pos\",\"pos\",\"neg\",\"pos\",\"pos\",\"neg\",\"pos\",\"neg\",\"neg\",\"neg\",\"pos\",\"neg\",\"pos\",\"neg\",\"neg\",\"neg\",\"pos\",\"pos\",\"pos\",\"neg\",\"neg\",\"neg\",\"pos\",\"pos\",\"pos\",\"pos\",\"pos\",\"neg\",\"pos\",\"neg\",\"pos\",\"neg\",\"neg\",\"pos\",\"neg\",\"pos\",\"neg\",\"neg\",\"neg\",\"pos\",\"neg\",\"neg\",\"neg\",\"pos\",\"neg\",\"pos\",\"neg\",\"pos\",\"neg\",\"pos\",\"pos\",\"pos\",\"pos\",\"neg\",\"pos\",\"pos\",\"pos\",\"neg\",\"pos\",\"neg\",\"pos\",\"pos\",\"pos\",\"neg\",\"neg\",\"neg\",\"neg\",\"pos\",\"pos\",\"pos\",\"pos\",\"pos\",\"neg\",\"neg\",\"pos\",\"neg\",\"neg\",\"neg\",\"neg\",\"pos\",\"neg\",\"neg\",\"neg\",\"pos\",\"neg\",\"pos\",\"neg\",\"neg\",\"neg\",\"neg\",\"pos\",\"neg\",\"pos\",\"neg\",\"pos\",\"neg\",\"neg\",\"pos\",\"pos\",\"neg\",\"neg\",\"pos\",\"pos\",\"pos\",\"neg\",\"neg\",\"pos\",\"neg\",\"pos\",\"neg\",\"pos\",\"neg\",\"neg\",\"pos\",\"pos\",\"neg\",\"pos\",\"neg\",\"pos\",\"pos\",\"pos\",\"neg\",\"pos\",\"pos\",\"pos\",\"neg\",\"pos\",\"pos\",\"pos\",\"pos\",\"neg\",\"neg\",\"neg\",\"pos\",\"pos\",\"pos\",\"neg\",\"pos\",\"pos\",\"neg\",\"neg\",\"neg\",\"neg\",\"neg\",\"neg\",\"neg\",\"pos\",\"neg\",\"pos\",\"neg\",\"neg\",\"neg\",\"pos\",\"neg\",\"pos\",\"pos\",\"neg\",\"neg\",\"neg\",\"neg\",\"neg\",\"pos\",\"pos\",\"neg\",\"neg\",\"pos\",\"pos\",\"pos\",\"neg\",\"pos\",\"pos\",\"neg\",\"pos\",\"pos\",\"neg\",\"pos\",\"neg\",\"neg\",\"neg\",\"neg\",\"neg\",\"neg\",\"pos\",\"pos\",\"pos\",\"pos\",\"pos\",\"pos\",\"neg\",\"pos\",\"pos\",\"neg\",\"neg\",\"neg\",\"pos\",\"neg\",\"neg\",\"pos\",\"neg\",\"pos\",\"pos\",\"pos\",\"neg\",\"neg\",\"pos\",\"pos\",\"pos\",\"neg\",\"neg\",\"neg\",\"pos\",\"pos\",\"pos\",\"pos\",\"pos\",\"pos\",\"neg\",\"neg\",\"neg\",\"neg\",\"neg\",\"pos\",\"pos\",\"pos\",\"pos\",\"neg\",\"neg\",\"neg\",\"pos\",\"neg\",\"neg\",\"pos\",\"neg\",\"neg\",\"neg\",\"neg\",\"pos\",\"neg\",\"neg\",\"neg\",\"neg\",\"neg\",\"pos\",\"pos\",\"pos\",\"neg\",\"neg\",\"neg\",\"neg\",\"neg\",\"neg\",\"neg\",\"neg\",\"pos\",\"neg\",\"pos\",\"pos\",\"neg\",\"pos\",\"pos\",\"pos\",\"neg\",\"pos\",\"pos\",\"pos\",\"neg\",\"pos\",\"neg\",\"pos\",\"pos\",\"pos\",\"neg\",\"neg\",\"pos\",\"pos\",\"neg\",\"pos\",\"neg\",\"pos\",\"neg\",\"neg\",\"neg\",\"pos\",\"pos\",\"pos\",\"pos\",\"neg\",\"pos\",\"pos\",\"neg\",\"neg\",\"pos\",\"neg\",\"neg\",\"neg\",\"pos\",\"neg\",\"neg\",\"pos\",\"neg\",\"neg\",\"pos\",\"neg\",\"neg\",\"neg\",\"pos\",\"neg\",\"neg\",\"neg\",\"neg\",\"pos\",\"neg\",\"neg\",\"neg\",\"pos\",\"neg\",\"neg\",\"pos\",\"pos\",\"pos\",\"neg\",\"neg\",\"neg\",\"neg\",\"neg\",\"pos\",\"pos\",\"pos\",\"neg\",\"pos\",\"pos\",\"pos\",\"pos\",\"neg\",\"neg\",\"neg\",\"neg\",\"neg\",\"neg\",\"pos\",\"pos\",\"neg\",\"neg\",\"neg\",\"neg\",\"pos\",\"neg\",\"pos\",\"pos\",\"neg\",\"pos\",\"pos\",\"pos\",\"pos\",\"pos\",\"neg\",\"pos\",\"neg\",\"neg\",\"pos\",\"neg\",\"pos\",\"pos\",\"pos\",\"pos\",\"neg\",\"pos\",\"pos\",\"pos\",\"neg\",\"pos\",\"pos\",\"pos\",\"pos\",\"pos\",\"pos\",\"neg\",\"neg\",\"pos\",\"pos\",\"neg\",\"pos\",\"neg\",\"neg\",\"pos\",\"pos\",\"pos\",\"neg\",\"pos\",\"neg\",\"pos\",\"pos\",\"pos\",\"neg\",\"neg\",\"neg\",\"pos\",\"pos\",\"pos\",\"neg\",\"pos\",\"neg\",\"pos\",\"pos\",\"pos\",\"pos\",\"neg\",\"neg\",\"pos\",\"neg\",\"neg\",\"pos\",\"pos\",\"pos\",\"pos\",\"pos\",\"pos\",\"pos\",\"neg\",\"neg\",\"neg\",\"neg\",\"pos\",\"neg\",\"pos\",\"pos\",\"pos\",\"neg\",\"neg\",\"pos\",\"pos\",\"neg\",\"neg\",\"pos\",\"pos\",\"pos\",\"neg\",\"pos\",\"neg\",\"pos\",\"pos\",\"pos\",\"pos\",\"pos\",\"pos\",\"pos\",\"pos\",\"pos\",\"pos\",\"neg\",\"neg\",\"neg\",\"neg\",\"neg\",\"pos\",\"pos\",\"neg\",\"pos\",\"pos\",\"pos\",\"neg\",\"pos\",\"neg\",\"pos\",\"pos\",\"pos\",\"pos\",\"pos\",\"neg\",\"neg\",\"neg\",\"pos\",\"neg\",\"pos\",\"pos\",\"pos\",\"neg\",\"neg\",\"neg\",\"pos\",\"neg\",\"neg\",\"neg\",\"neg\",\"neg\",\"pos\",\"neg\",\"pos\",\"pos\",\"pos\",\"neg\",\"neg\",\"pos\",\"pos\",\"pos\",\"pos\",\"neg\",\"pos\",\"pos\",\"pos\",\"neg\",\"neg\",\"pos\",\"pos\",\"neg\",\"pos\",\"pos\",\"pos\",\"neg\",\"pos\",\"neg\",\"pos\",\"pos\",\"neg\",\"pos\",\"pos\",\"neg\",\"neg\",\"pos\",\"neg\",\"neg\",\"pos\",\"pos\",\"neg\",\"neg\",\"neg\",\"pos\",\"neg\",\"pos\",\"pos\",\"neg\",\"neg\",\"pos\",\"pos\",\"pos\",\"pos\",\"pos\",\"pos\",\"pos\",\"pos\",\"pos\",\"pos\",\"pos\",\"neg\",\"neg\",\"pos\",\"pos\",\"neg\",\"pos\",\"neg\",\"neg\",\"neg\",\"neg\",\"pos\",\"pos\",\"neg\",\"pos\",\"pos\",\"neg\",\"neg\",\"pos\",\"pos\",\"neg\",\"pos\",\"neg\",\"neg\",\"pos\",\"neg\",\"pos\",\"pos\",\"pos\",\"neg\",\"pos\",\"pos\",\"pos\",\"neg\",\"neg\",\"pos\",\"neg\",\"pos\",\"pos\",\"pos\",\"pos\",\"pos\",\"neg\",\"neg\",\"pos\",\"neg\",\"neg\",\"neg\",\"neg\",\"pos\",\"neg\",\"neg\",\"pos\",\"pos\",\"neg\",\"neg\",\"neg\",\"neg\",\"neg\",\"neg\",\"neg\",\"neg\",\"pos\",\"neg\",\"neg\",\"pos\",\"pos\",\"pos\",\"neg\",\"pos\",\"pos\",\"neg\",\"neg\",\"pos\",\"pos\",\"pos\",\"pos\",\"pos\",\"neg\",\"neg\",\"pos\",\"neg\",\"neg\",\"pos\",\"neg\",\"neg\",\"pos\",\"neg\",\"neg\",\"pos\",\"pos\",\"neg\",\"pos\",\"pos\",\"neg\",\"pos\",\"pos\",\"pos\",\"pos\",\"neg\",\"neg\",\"pos\",\"neg\",\"neg\",\"pos\",\"neg\",\"pos\",\"neg\",\"pos\",\"neg\",\"neg\",\"neg\",\"neg\",\"neg\",\"pos\",\"neg\",\"pos\",\"pos\",\"pos\",\"neg\",\"pos\",\"neg\",\"neg\",\"pos\",\"neg\",\"neg\",\"neg\",\"neg\",\"neg\",\"neg\",\"pos\",\"neg\",\"neg\",\"neg\",\"neg\",\"neg\",\"neg\",\"neg\",\"pos\",\"pos\",\"neg\",\"pos\",\"neg\",\"pos\",\"pos\",\"pos\",\"neg\",\"pos\",\"pos\",\"pos\",\"neg\",\"neg\",\"pos\",\"pos\",\"neg\",\"neg\",\"pos\",\"pos\",\"pos\",\"neg\",\"pos\",\"neg\",\"pos\",\"neg\",\"pos\",\"pos\",\"neg\",\"neg\",\"neg\",\"pos\",\"pos\",\"neg\",\"pos\",\"neg\",\"pos\",\"neg\",\"neg\",\"neg\",\"neg\",\"pos\",\"pos\",\"pos\",\"pos\",\"neg\",\"pos\",\"pos\",\"pos\",\"pos\",\"pos\",\"pos\",\"pos\",\"pos\",\"pos\",\"neg\",\"pos\",\"pos\",\"pos\",\"neg\",\"pos\",\"pos\",\"pos\",\"pos\",\"pos\",\"pos\",\"neg\",\"neg\",\"neg\",\"neg\",\"neg\",\"neg\",\"pos\",\"pos\",\"neg\",\"pos\",\"neg\",\"neg\",\"neg\",\"pos\",\"pos\",\"neg\",\"neg\",\"pos\",\"neg\",\"pos\",\"neg\",\"pos\",\"neg\",\"pos\",\"neg\",\"neg\",\"pos\",\"neg\",\"neg\",\"neg\",\"neg\",\"pos\",\"pos\",\"pos\",\"pos\",\"pos\",\"pos\",\"pos\",\"neg\",\"neg\",\"pos\",\"pos\",\"pos\",\"neg\",\"neg\",\"neg\",\"pos\",\"pos\",\"neg\",\"pos\",\"pos\",\"neg\",\"neg\",\"neg\",\"pos\",\"neg\",\"neg\",\"pos\",\"pos\",\"pos\",\"pos\",\"neg\",\"neg\",\"pos\",\"neg\",\"pos\",\"neg\",\"neg\",\"pos\",\"pos\",\"neg\",\"pos\",\"pos\",\"pos\",\"pos\",\"pos\",\"neg\",\"pos\",\"neg\",\"pos\",\"neg\",\"pos\",\"pos\",\"neg\",\"pos\",\"pos\",\"pos\",\"pos\",\"pos\",\"pos\",\"neg\",\"pos\",\"pos\",\"neg\",\"neg\",\"pos\",\"pos\",\"neg\",\"pos\",\"pos\",\"neg\",\"neg\",\"neg\",\"neg\",\"pos\",\"neg\",\"pos\",\"pos\",\"neg\",\"neg\",\"neg\",\"pos\",\"neg\",\"pos\",\"neg\",\"neg\",\"pos\",\"neg\",\"neg\",\"neg\",\"pos\",\"pos\",\"pos\",\"neg\",\"neg\",\"pos\",\"neg\",\"pos\",\"pos\",\"neg\",\"pos\",\"neg\",\"pos\",\"pos\",\"neg\",\"pos\",\"neg\",\"neg\",\"pos\",\"pos\",\"neg\",\"pos\",\"neg\",\"pos\",\"neg\",\"neg\",\"pos\",\"neg\",\"pos\",\"neg\",\"pos\",\"neg\",\"pos\",\"neg\",\"pos\",\"pos\",\"pos\",\"neg\",\"neg\",\"neg\",\"pos\",\"pos\",\"neg\",\"pos\",\"neg\",\"neg\",\"pos\",\"neg\",\"neg\",\"neg\",\"neg\",\"neg\",\"neg\",\"neg\",\"pos\",\"pos\",\"pos\",\"neg\",\"neg\",\"neg\",\"neg\",\"neg\",\"pos\",\"neg\",\"pos\",\"pos\",\"neg\",\"neg\",\"pos\",\"neg\",\"neg\",\"pos\",\"pos\",\"pos\",\"neg\",\"pos\",\"neg\",\"pos\",\"neg\",\"neg\",\"pos\",\"pos\",\"pos\",\"pos\",\"pos\",\"pos\",\"pos\",\"neg\",\"neg\",\"pos\",\"pos\",\"neg\",\"pos\",\"pos\",\"pos\",\"pos\",\"neg\",\"pos\",\"pos\",\"neg\",\"neg\",\"pos\",\"neg\",\"neg\",\"neg\",\"neg\",\"neg\",\"pos\",\"neg\",\"pos\",\"pos\",\"pos\",\"neg\",\"neg\",\"pos\",\"pos\",\"neg\",\"pos\",\"neg\",\"pos\",\"pos\",\"neg\",\"pos\",\"pos\",\"pos\",\"neg\",\"neg\",\"pos\",\"neg\",\"neg\",\"neg\",\"pos\",\"neg\",\"pos\",\"neg\",\"pos\",\"pos\",\"pos\",\"pos\",\"pos\",\"neg\",\"neg\",\"neg\",\"pos\",\"neg\",\"pos\",\"pos\",\"pos\",\"neg\",\"pos\",\"neg\",\"pos\",\"pos\",\"neg\",\"neg\",\"neg\",\"pos\",\"neg\",\"neg\",\"pos\",\"pos\",\"neg\",\"pos\",\"pos\",\"pos\",\"pos\",\"neg\",\"pos\",\"pos\",\"neg\",\"neg\",\"neg\",\"neg\",\"pos\",\"neg\",\"pos\",\"pos\",\"pos\",\"neg\",\"neg\",\"pos\",\"neg\",\"neg\",\"pos\",\"neg\",\"pos\",\"pos\",\"neg\",\"neg\",\"neg\",\"pos\",\"neg\",\"pos\",\"neg\",\"neg\",\"neg\",\"pos\",\"neg\",\"pos\",\"pos\",\"neg\",\"pos\",\"pos\",\"neg\",\"pos\",\"pos\",\"neg\",\"pos\",\"pos\",\"pos\",\"pos\",\"neg\",\"pos\",\"neg\",\"neg\",\"pos\",\"pos\",\"neg\",\"neg\",\"pos\",\"neg\",\"neg\",\"neg\",\"neg\",\"pos\",\"pos\",\"pos\",\"pos\",\"neg\",\"pos\",\"pos\",\"pos\",\"pos\",\"pos\",\"neg\",\"pos\",\"neg\",\"neg\",\"pos\",\"pos\",\"pos\",\"neg\",\"neg\",\"neg\",\"neg\",\"neg\",\"neg\",\"pos\",\"pos\",\"pos\",\"pos\",\"neg\",\"pos\",\"neg\",\"pos\",\"neg\",\"neg\",\"neg\",\"pos\",\"neg\",\"neg\",\"pos\",\"pos\",\"neg\",\"neg\",\"neg\",\"neg\",\"neg\",\"pos\",\"pos\",\"pos\",\"neg\",\"pos\",\"neg\",\"neg\",\"pos\",\"neg\",\"neg\",\"pos\",\"neg\",\"neg\",\"neg\",\"neg\",\"pos\",\"neg\",\"pos\",\"pos\",\"pos\",\"neg\",\"pos\",\"pos\",\"neg\",\"pos\",\"pos\",\"neg\",\"pos\",\"neg\",\"pos\",\"pos\",\"neg\",\"neg\",\"pos\",\"neg\",\"neg\",\"neg\",\"pos\",\"neg\",\"neg\",\"pos\",\"neg\",\"pos\",\"pos\",\"neg\",\"neg\",\"pos\",\"neg\",\"pos\",\"neg\",\"pos\",\"neg\",\"neg\",\"pos\",\"pos\",\"neg\",\"pos\",\"pos\",\"pos\",\"neg\",\"neg\",\"pos\",\"pos\",\"pos\",\"neg\",\"pos\",\"neg\",\"neg\",\"pos\",\"pos\",\"neg\",\"pos\",\"neg\",\"neg\",\"neg\",\"pos\",\"neg\",\"pos\",\"neg\",\"pos\",\"neg\",\"pos\",\"neg\",\"pos\",\"pos\",\"neg\",\"pos\",\"neg\",\"neg\",\"pos\",\"neg\",\"neg\",\"neg\",\"neg\",\"pos\",\"neg\",\"neg\",\"neg\",\"pos\",\"pos\",\"pos\",\"pos\",\"pos\",\"pos\",\"neg\",\"pos\",\"neg\",\"neg\",\"pos\",\"pos\",\"pos\",\"pos\",\"neg\",\"pos\",\"pos\",\"pos\",\"pos\",\"neg\",\"neg\",\"pos\",\"pos\",\"pos\",\"neg\",\"neg\",\"pos\",\"pos\",\"neg\",\"neg\",\"neg\",\"neg\",\"neg\",\"pos\",\"pos\",\"neg\",\"neg\",\"pos\",\"pos\",\"pos\",\"pos\",\"neg\",\"neg\",\"pos\",\"neg\",\"neg\",\"pos\",\"pos\",\"neg\",\"pos\",\"neg\",\"pos\",\"neg\",\"neg\",\"pos\",\"pos\",\"neg\",\"neg\",\"neg\",\"pos\",\"pos\",\"neg\",\"pos\",\"pos\",\"neg\",\"neg\",\"pos\",\"neg\",\"pos\",\"pos\",\"neg\",\"neg\",\"pos\",\"neg\",\"neg\",\"neg\",\"neg\",\"pos\",\"pos\",\"neg\",\"pos\",\"neg\",\"neg\",\"pos\",\"neg\",\"pos\",\"neg\",\"neg\",\"pos\",\"pos\",\"neg\",\"neg\",\"pos\",\"pos\",\"pos\",\"pos\",\"neg\",\"neg\",\"pos\",\"neg\",\"pos\",\"pos\",\"neg\",\"pos\",\"pos\",\"pos\",\"pos\",\"neg\",\"pos\",\"neg\",\"pos\",\"neg\",\"neg\",\"neg\",\"neg\",\"neg\",\"pos\",\"pos\",\"neg\",\"neg\",\"neg\",\"neg\",\"neg\",\"pos\",\"neg\",\"neg\",\"neg\",\"neg\",\"pos\",\"pos\",\"neg\",\"neg\",\"neg\",\"neg\",\"pos\",\"pos\",\"neg\",\"pos\",\"neg\",\"pos\",\"neg\",\"pos\",\"neg\",\"pos\",\"pos\",\"neg\",\"neg\",\"neg\",\"pos\",\"neg\",\"neg\",\"neg\",\"neg\",\"neg\",\"neg\",\"neg\",\"neg\",\"neg\",\"pos\",\"pos\",\"pos\",\"neg\",\"pos\",\"pos\",\"pos\",\"pos\",\"pos\",\"pos\",\"neg\",\"pos\",\"pos\",\"pos\",\"pos\",\"pos\",\"neg\",\"pos\",\"neg\",\"neg\",\"pos\",\"pos\",\"pos\",\"neg\",\"pos\",\"pos\",\"neg\",\"neg\",\"pos\",\"neg\",\"neg\",\"neg\",\"pos\",\"pos\",\"neg\",\"neg\",\"pos\",\"pos\",\"neg\",\"pos\",\"neg\",\"neg\",\"pos\",\"neg\",\"pos\",\"pos\",\"pos\",\"neg\",\"neg\",\"pos\",\"neg\",\"neg\",\"neg\",\"neg\",\"pos\",\"neg\",\"pos\",\"pos\",\"neg\",\"neg\",\"pos\",\"pos\",\"neg\",\"neg\",\"neg\",\"pos\",\"pos\",\"pos\",\"neg\",\"pos\",\"pos\",\"pos\",\"neg\",\"neg\",\"neg\",\"pos\",\"neg\",\"neg\",\"neg\",\"pos\",\"pos\",\"neg\",\"pos\",\"pos\",\"pos\",\"neg\",\"pos\",\"neg\",\"pos\",\"neg\",\"pos\",\"pos\",\"neg\",\"pos\",\"pos\",\"neg\",\"neg\",\"pos\",\"pos\",\"pos\",\"neg\",\"pos\",\"pos\",\"neg\",\"pos\",\"pos\",\"neg\",\"neg\",\"neg\",\"pos\",\"neg\",\"pos\",\"pos\",\"neg\",\"pos\",\"neg\",\"pos\",\"neg\",\"neg\",\"pos\",\"neg\",\"neg\",\"pos\",\"neg\",\"neg\",\"neg\",\"pos\",\"neg\",\"neg\",\"neg\",\"neg\",\"pos\",\"neg\",\"neg\",\"neg\",\"neg\",\"pos\",\"neg\",\"neg\",\"pos\",\"neg\",\"pos\",\"neg\",\"neg\",\"neg\",\"pos\",\"pos\",\"pos\",\"neg\",\"neg\",\"pos\",\"pos\",\"pos\",\"pos\",\"pos\",\"pos\"],\"type\":\"histogram\"}],                        {\"barmode\":\"overlay\",\"legend\":{\"bgcolor\":\"#F5F6F9\",\"font\":{\"color\":\"#4D5663\"}},\"paper_bgcolor\":\"#F5F6F9\",\"plot_bgcolor\":\"#F5F6F9\",\"template\":{\"data\":{\"barpolar\":[{\"marker\":{\"line\":{\"color\":\"#E5ECF6\",\"width\":0.5},\"pattern\":{\"fillmode\":\"overlay\",\"size\":10,\"solidity\":0.2}},\"type\":\"barpolar\"}],\"bar\":[{\"error_x\":{\"color\":\"#2a3f5f\"},\"error_y\":{\"color\":\"#2a3f5f\"},\"marker\":{\"line\":{\"color\":\"#E5ECF6\",\"width\":0.5},\"pattern\":{\"fillmode\":\"overlay\",\"size\":10,\"solidity\":0.2}},\"type\":\"bar\"}],\"carpet\":[{\"aaxis\":{\"endlinecolor\":\"#2a3f5f\",\"gridcolor\":\"white\",\"linecolor\":\"white\",\"minorgridcolor\":\"white\",\"startlinecolor\":\"#2a3f5f\"},\"baxis\":{\"endlinecolor\":\"#2a3f5f\",\"gridcolor\":\"white\",\"linecolor\":\"white\",\"minorgridcolor\":\"white\",\"startlinecolor\":\"#2a3f5f\"},\"type\":\"carpet\"}],\"choropleth\":[{\"colorbar\":{\"outlinewidth\":0,\"ticks\":\"\"},\"type\":\"choropleth\"}],\"contourcarpet\":[{\"colorbar\":{\"outlinewidth\":0,\"ticks\":\"\"},\"type\":\"contourcarpet\"}],\"contour\":[{\"colorbar\":{\"outlinewidth\":0,\"ticks\":\"\"},\"colorscale\":[[0.0,\"#0d0887\"],[0.1111111111111111,\"#46039f\"],[0.2222222222222222,\"#7201a8\"],[0.3333333333333333,\"#9c179e\"],[0.4444444444444444,\"#bd3786\"],[0.5555555555555556,\"#d8576b\"],[0.6666666666666666,\"#ed7953\"],[0.7777777777777778,\"#fb9f3a\"],[0.8888888888888888,\"#fdca26\"],[1.0,\"#f0f921\"]],\"type\":\"contour\"}],\"heatmapgl\":[{\"colorbar\":{\"outlinewidth\":0,\"ticks\":\"\"},\"colorscale\":[[0.0,\"#0d0887\"],[0.1111111111111111,\"#46039f\"],[0.2222222222222222,\"#7201a8\"],[0.3333333333333333,\"#9c179e\"],[0.4444444444444444,\"#bd3786\"],[0.5555555555555556,\"#d8576b\"],[0.6666666666666666,\"#ed7953\"],[0.7777777777777778,\"#fb9f3a\"],[0.8888888888888888,\"#fdca26\"],[1.0,\"#f0f921\"]],\"type\":\"heatmapgl\"}],\"heatmap\":[{\"colorbar\":{\"outlinewidth\":0,\"ticks\":\"\"},\"colorscale\":[[0.0,\"#0d0887\"],[0.1111111111111111,\"#46039f\"],[0.2222222222222222,\"#7201a8\"],[0.3333333333333333,\"#9c179e\"],[0.4444444444444444,\"#bd3786\"],[0.5555555555555556,\"#d8576b\"],[0.6666666666666666,\"#ed7953\"],[0.7777777777777778,\"#fb9f3a\"],[0.8888888888888888,\"#fdca26\"],[1.0,\"#f0f921\"]],\"type\":\"heatmap\"}],\"histogram2dcontour\":[{\"colorbar\":{\"outlinewidth\":0,\"ticks\":\"\"},\"colorscale\":[[0.0,\"#0d0887\"],[0.1111111111111111,\"#46039f\"],[0.2222222222222222,\"#7201a8\"],[0.3333333333333333,\"#9c179e\"],[0.4444444444444444,\"#bd3786\"],[0.5555555555555556,\"#d8576b\"],[0.6666666666666666,\"#ed7953\"],[0.7777777777777778,\"#fb9f3a\"],[0.8888888888888888,\"#fdca26\"],[1.0,\"#f0f921\"]],\"type\":\"histogram2dcontour\"}],\"histogram2d\":[{\"colorbar\":{\"outlinewidth\":0,\"ticks\":\"\"},\"colorscale\":[[0.0,\"#0d0887\"],[0.1111111111111111,\"#46039f\"],[0.2222222222222222,\"#7201a8\"],[0.3333333333333333,\"#9c179e\"],[0.4444444444444444,\"#bd3786\"],[0.5555555555555556,\"#d8576b\"],[0.6666666666666666,\"#ed7953\"],[0.7777777777777778,\"#fb9f3a\"],[0.8888888888888888,\"#fdca26\"],[1.0,\"#f0f921\"]],\"type\":\"histogram2d\"}],\"histogram\":[{\"marker\":{\"pattern\":{\"fillmode\":\"overlay\",\"size\":10,\"solidity\":0.2}},\"type\":\"histogram\"}],\"mesh3d\":[{\"colorbar\":{\"outlinewidth\":0,\"ticks\":\"\"},\"type\":\"mesh3d\"}],\"parcoords\":[{\"line\":{\"colorbar\":{\"outlinewidth\":0,\"ticks\":\"\"}},\"type\":\"parcoords\"}],\"pie\":[{\"automargin\":true,\"type\":\"pie\"}],\"scatter3d\":[{\"line\":{\"colorbar\":{\"outlinewidth\":0,\"ticks\":\"\"}},\"marker\":{\"colorbar\":{\"outlinewidth\":0,\"ticks\":\"\"}},\"type\":\"scatter3d\"}],\"scattercarpet\":[{\"marker\":{\"colorbar\":{\"outlinewidth\":0,\"ticks\":\"\"}},\"type\":\"scattercarpet\"}],\"scattergeo\":[{\"marker\":{\"colorbar\":{\"outlinewidth\":0,\"ticks\":\"\"}},\"type\":\"scattergeo\"}],\"scattergl\":[{\"marker\":{\"colorbar\":{\"outlinewidth\":0,\"ticks\":\"\"}},\"type\":\"scattergl\"}],\"scattermapbox\":[{\"marker\":{\"colorbar\":{\"outlinewidth\":0,\"ticks\":\"\"}},\"type\":\"scattermapbox\"}],\"scatterpolargl\":[{\"marker\":{\"colorbar\":{\"outlinewidth\":0,\"ticks\":\"\"}},\"type\":\"scatterpolargl\"}],\"scatterpolar\":[{\"marker\":{\"colorbar\":{\"outlinewidth\":0,\"ticks\":\"\"}},\"type\":\"scatterpolar\"}],\"scatter\":[{\"marker\":{\"colorbar\":{\"outlinewidth\":0,\"ticks\":\"\"}},\"type\":\"scatter\"}],\"scatterternary\":[{\"marker\":{\"colorbar\":{\"outlinewidth\":0,\"ticks\":\"\"}},\"type\":\"scatterternary\"}],\"surface\":[{\"colorbar\":{\"outlinewidth\":0,\"ticks\":\"\"},\"colorscale\":[[0.0,\"#0d0887\"],[0.1111111111111111,\"#46039f\"],[0.2222222222222222,\"#7201a8\"],[0.3333333333333333,\"#9c179e\"],[0.4444444444444444,\"#bd3786\"],[0.5555555555555556,\"#d8576b\"],[0.6666666666666666,\"#ed7953\"],[0.7777777777777778,\"#fb9f3a\"],[0.8888888888888888,\"#fdca26\"],[1.0,\"#f0f921\"]],\"type\":\"surface\"}],\"table\":[{\"cells\":{\"fill\":{\"color\":\"#EBF0F8\"},\"line\":{\"color\":\"white\"}},\"header\":{\"fill\":{\"color\":\"#C8D4E3\"},\"line\":{\"color\":\"white\"}},\"type\":\"table\"}]},\"layout\":{\"annotationdefaults\":{\"arrowcolor\":\"#2a3f5f\",\"arrowhead\":0,\"arrowwidth\":1},\"autotypenumbers\":\"strict\",\"coloraxis\":{\"colorbar\":{\"outlinewidth\":0,\"ticks\":\"\"}},\"colorscale\":{\"diverging\":[[0,\"#8e0152\"],[0.1,\"#c51b7d\"],[0.2,\"#de77ae\"],[0.3,\"#f1b6da\"],[0.4,\"#fde0ef\"],[0.5,\"#f7f7f7\"],[0.6,\"#e6f5d0\"],[0.7,\"#b8e186\"],[0.8,\"#7fbc41\"],[0.9,\"#4d9221\"],[1,\"#276419\"]],\"sequential\":[[0.0,\"#0d0887\"],[0.1111111111111111,\"#46039f\"],[0.2222222222222222,\"#7201a8\"],[0.3333333333333333,\"#9c179e\"],[0.4444444444444444,\"#bd3786\"],[0.5555555555555556,\"#d8576b\"],[0.6666666666666666,\"#ed7953\"],[0.7777777777777778,\"#fb9f3a\"],[0.8888888888888888,\"#fdca26\"],[1.0,\"#f0f921\"]],\"sequentialminus\":[[0.0,\"#0d0887\"],[0.1111111111111111,\"#46039f\"],[0.2222222222222222,\"#7201a8\"],[0.3333333333333333,\"#9c179e\"],[0.4444444444444444,\"#bd3786\"],[0.5555555555555556,\"#d8576b\"],[0.6666666666666666,\"#ed7953\"],[0.7777777777777778,\"#fb9f3a\"],[0.8888888888888888,\"#fdca26\"],[1.0,\"#f0f921\"]]},\"colorway\":[\"#636efa\",\"#EF553B\",\"#00cc96\",\"#ab63fa\",\"#FFA15A\",\"#19d3f3\",\"#FF6692\",\"#B6E880\",\"#FF97FF\",\"#FECB52\"],\"font\":{\"color\":\"#2a3f5f\"},\"geo\":{\"bgcolor\":\"white\",\"lakecolor\":\"white\",\"landcolor\":\"#E5ECF6\",\"showlakes\":true,\"showland\":true,\"subunitcolor\":\"white\"},\"hoverlabel\":{\"align\":\"left\"},\"hovermode\":\"closest\",\"mapbox\":{\"style\":\"light\"},\"paper_bgcolor\":\"white\",\"plot_bgcolor\":\"#E5ECF6\",\"polar\":{\"angularaxis\":{\"gridcolor\":\"white\",\"linecolor\":\"white\",\"ticks\":\"\"},\"bgcolor\":\"#E5ECF6\",\"radialaxis\":{\"gridcolor\":\"white\",\"linecolor\":\"white\",\"ticks\":\"\"}},\"scene\":{\"xaxis\":{\"backgroundcolor\":\"#E5ECF6\",\"gridcolor\":\"white\",\"gridwidth\":2,\"linecolor\":\"white\",\"showbackground\":true,\"ticks\":\"\",\"zerolinecolor\":\"white\"},\"yaxis\":{\"backgroundcolor\":\"#E5ECF6\",\"gridcolor\":\"white\",\"gridwidth\":2,\"linecolor\":\"white\",\"showbackground\":true,\"ticks\":\"\",\"zerolinecolor\":\"white\"},\"zaxis\":{\"backgroundcolor\":\"#E5ECF6\",\"gridcolor\":\"white\",\"gridwidth\":2,\"linecolor\":\"white\",\"showbackground\":true,\"ticks\":\"\",\"zerolinecolor\":\"white\"}},\"shapedefaults\":{\"line\":{\"color\":\"#2a3f5f\"}},\"ternary\":{\"aaxis\":{\"gridcolor\":\"white\",\"linecolor\":\"white\",\"ticks\":\"\"},\"baxis\":{\"gridcolor\":\"white\",\"linecolor\":\"white\",\"ticks\":\"\"},\"bgcolor\":\"#E5ECF6\",\"caxis\":{\"gridcolor\":\"white\",\"linecolor\":\"white\",\"ticks\":\"\"}},\"title\":{\"x\":0.05},\"xaxis\":{\"automargin\":true,\"gridcolor\":\"white\",\"linecolor\":\"white\",\"ticks\":\"\",\"title\":{\"standoff\":15},\"zerolinecolor\":\"white\",\"zerolinewidth\":2},\"yaxis\":{\"automargin\":true,\"gridcolor\":\"white\",\"linecolor\":\"white\",\"ticks\":\"\",\"title\":{\"standoff\":15},\"zerolinecolor\":\"white\",\"zerolinewidth\":2}}},\"title\":{\"font\":{\"color\":\"#4D5663\"}},\"xaxis\":{\"gridcolor\":\"#E1E5ED\",\"showgrid\":true,\"tickfont\":{\"color\":\"#4D5663\"},\"title\":{\"font\":{\"color\":\"#4D5663\"},\"text\":\"\"},\"zerolinecolor\":\"#E1E5ED\"},\"yaxis\":{\"gridcolor\":\"#E1E5ED\",\"showgrid\":true,\"tickfont\":{\"color\":\"#4D5663\"},\"title\":{\"font\":{\"color\":\"#4D5663\"},\"text\":\"\"},\"zerolinecolor\":\"#E1E5ED\"}},                        {\"showLink\": true, \"linkText\": \"Export to plot.ly\", \"plotlyServerURL\": \"https://plot.ly\", \"responsive\": true}                    ).then(function(){\n",
       "                            \n",
       "var gd = document.getElementById('89da305a-5397-4269-b04d-b47ed2b4827e');\n",
       "var x = new MutationObserver(function (mutations, observer) {{\n",
       "        var display = window.getComputedStyle(gd).display;\n",
       "        if (!display || display === 'none') {{\n",
       "            console.log([gd, 'removed!']);\n",
       "            Plotly.purge(gd);\n",
       "            observer.disconnect();\n",
       "        }}\n",
       "}});\n",
       "\n",
       "// Listen for the removal of the full notebook cells\n",
       "var notebookContainer = gd.closest('#notebook-container');\n",
       "if (notebookContainer) {{\n",
       "    x.observe(notebookContainer, {childList: true});\n",
       "}}\n",
       "\n",
       "// Listen for the clearing of the current output cell\n",
       "var outputEl = gd.closest('.output');\n",
       "if (outputEl) {{\n",
       "    x.observe(outputEl, {childList: true});\n",
       "}}\n",
       "\n",
       "                        })                };                });            </script>        </div>"
      ]
     },
     "metadata": {},
     "output_type": "display_data"
    }
   ],
   "source": [
    "df['label'].iplot(kind='hist')"
   ]
  },
  {
   "cell_type": "code",
   "execution_count": 14,
   "id": "2782f198",
   "metadata": {},
   "outputs": [
    {
     "data": {
      "text/plain": [
       "<AxesSubplot:xlabel='label', ylabel='count'>"
      ]
     },
     "execution_count": 14,
     "metadata": {},
     "output_type": "execute_result"
    },
    {
     "data": {
      "image/png": "[encoded data removed]",
      "text/plain": [
       "<Figure size 432x288 with 1 Axes>"
      ]
     },
     "metadata": {
      "needs_background": "light"
     },
     "output_type": "display_data"
    }
   ],
   "source": [
    "sns.countplot(data = df, x = 'label', palette='mako')"
   ]
  },
  {
   "cell_type": "code",
   "execution_count": 15,
   "id": "bcd9567d-bf49-4b62-8805-5c85fcb8740f",
   "metadata": {},
   "outputs": [
    {
     "name": "stdout",
     "output_type": "stream",
     "text": [
      "[('film', 5002), ('movie', 2389), ('like', 1721), ('just', 1273), ('story', 1199), ('good', 1193), ('time', 1175), ('character', 1037), ('life', 1032), ('characters', 957), ('way', 864), ('films', 851), ('does', 828), ('best', 788), ('people', 769), ('make', 764), ('little', 751), ('really', 731), ('man', 728), ('new', 702)]\n"
     ]
    }
   ],
   "source": [
    "from sklearn.feature_extraction.text import CountVectorizer\n",
    "count_vect = CountVectorizer(stop_words='english')\n",
    "\n",
    "matrix = count_vect.fit_transform(df[df['label']=='pos']['review'])\n",
    "freqs = zip(count_vect.get_feature_names(), matrix.sum(axis=0).tolist()[0])\n",
    "# sort from largest to smallest\n",
    "print(sorted(freqs, key = lambda x: -x[1])[:20])"
   ]
  },
  {
   "cell_type": "code",
   "execution_count": 16,
   "id": "6b41fa49-0975-4d4b-ad13-701841b07b2a",
   "metadata": {},
   "outputs": [],
   "source": [
    "X = df['review']\n",
    "y = df['label']"
   ]
  },
  {
   "cell_type": "code",
   "execution_count": 17,
   "id": "36bfca3a-a647-4827-b77d-93ad22a4b448",
   "metadata": {},
   "outputs": [],
   "source": [
    "from sklearn.model_selection import train_test_split"
   ]
  },
  {
   "cell_type": "code",
   "execution_count": 18,
   "id": "0bc27737-7c91-421a-8da4-3898abda5428",
   "metadata": {},
   "outputs": [],
   "source": [
    "X_train, X_test, y_train, y_test = train_test_split(X, y, test_size=0.2, random_state=101)"
   ]
  },
  {
   "cell_type": "code",
   "execution_count": 19,
   "id": "8c0f0470-a1fc-4246-851d-2d22e606103d",
   "metadata": {},
   "outputs": [],
   "source": [
    "from sklearn.pipeline import Pipeline\n",
    "from sklearn.feature_extraction.text import TfidfVectorizer\n",
    "from sklearn.naive_bayes import MultinomialNB"
   ]
  },
  {
   "cell_type": "code",
   "execution_count": 20,
   "id": "120b372d-e1d3-4c82-a131-00577a3be5c5",
   "metadata": {},
   "outputs": [],
   "source": [
    "pipe = Pipeline([('tfidf',TfidfVectorizer()),\n",
    "                ('MNB', MultinomialNB())])"
   ]
  },
  {
   "cell_type": "code",
   "execution_count": 21,
   "id": "4ec8890a-a7a9-47c4-be8d-938019b6c6ff",
   "metadata": {},
   "outputs": [
    {
     "data": {
      "text/plain": [
       "Pipeline(steps=[('tfidf', TfidfVectorizer()), ('MNB', MultinomialNB())])"
      ]
     },
     "execution_count": 21,
     "metadata": {},
     "output_type": "execute_result"
    }
   ],
   "source": [
    "pipe.fit(X_train,y_train)"
   ]
  },
  {
   "cell_type": "code",
   "execution_count": 22,
   "id": "7d8685f8-5734-41cb-9862-4388c4072b4b",
   "metadata": {},
   "outputs": [],
   "source": [
    "from sklearn.metrics import classification_report,plot_confusion_matrix"
   ]
  },
  {
   "cell_type": "code",
   "execution_count": 23,
   "id": "0a25b5ba-5cab-4868-ae6d-142c694edd8d",
   "metadata": {},
   "outputs": [],
   "source": [
    "preds = pipe.predict(X_test)"
   ]
  },
  {
   "cell_type": "code",
   "execution_count": 24,
   "id": "0b8ec348-4559-462e-bd4d-476d23313eec",
   "metadata": {},
   "outputs": [
    {
     "name": "stdout",
     "output_type": "stream",
     "text": [
      "              precision    recall  f1-score   support\n",
      "\n",
      "         neg       0.75      0.92      0.83       191\n",
      "         pos       0.90      0.70      0.79       197\n",
      "\n",
      "    accuracy                           0.81       388\n",
      "   macro avg       0.83      0.81      0.81       388\n",
      "weighted avg       0.83      0.81      0.81       388\n",
      "\n"
     ]
    }
   ],
   "source": [
    "print(classification_report(y_test, preds))"
   ]
  },
  {
   "cell_type": "code",
   "execution_count": 25,
   "id": "703be853-58f9-4412-82ec-c21562c33c7c",
   "metadata": {},
   "outputs": [
    {
     "data": {
      "text/plain": [
       "<sklearn.metrics._plot.confusion_matrix.ConfusionMatrixDisplay at 0x1b05c278bb0>"
      ]
     },
     "execution_count": 25,
     "metadata": {},
     "output_type": "execute_result"
    },
    {
     "data": {
      "image/png": "[encoded data removed]",
      "text/plain": [
       "<Figure size 432x288 with 2 Axes>"
      ]
     },
     "metadata": {
      "needs_background": "light"
     },
     "output_type": "display_data"
    }
   ],
   "source": [
    "plot_confusion_matrix(pipe,X_test,y_test,normalize = 'all')"
   ]
  }
 ],
 "metadata": {
  "kernelspec": {
   "display_name": "Python 3",
   "language": "python",
   "name": "python3"
  },
  "language_info": {
   "codemirror_mode": {
    "name": "ipython",
    "version": 3
   },
   "file_extension": ".py",
   "mimetype": "text/x-python",
   "name": "python",
   "nbconvert_exporter": "python",
   "pygments_lexer": "ipython3",
   "version": "3.8.8"
  }
 },
 "nbformat": 4,
 "nbformat_minor": 5
}
